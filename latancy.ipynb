{
 "cells": [
  {
   "cell_type": "code",
   "execution_count": 1,
   "metadata": {},
   "outputs": [],
   "source": [
    "import requests\n",
    "import time\n",
    "\n",
    "rpc_endpoints = [\n",
    "    \"https://eth-protect.rpc.blxrbdn.com\",\n",
    "    \"https://rpc.mevblocker.io\",\n",
    "    \"https://rpc.flashbots.net\",\n",
    "]"
   ]
  },
  {
   "cell_type": "code",
   "execution_count": 2,
   "metadata": {},
   "outputs": [
    {
     "name": "stdout",
     "output_type": "stream",
     "text": [
      "Endpoint: https://eth-protect.rpc.blxrbdn.com\n",
      "Response Time: 0.27084851264953613 seconds\n",
      "---\n",
      "Endpoint: https://rpc.mevblocker.io\n",
      "Response Time: 0.7033824920654297 seconds\n",
      "---\n",
      "Endpoint: https://rpc.flashbots.net\n",
      "Response Time: 0.45052504539489746 seconds\n",
      "---\n"
     ]
    }
   ],
   "source": [
    "for endpoint in rpc_endpoints:\n",
    "    start_time = time.time()\n",
    "    \n",
    "    try:\n",
    "        response = requests.post(endpoint, json={\"jsonrpc\": \"2.0\", \"method\": \"eth_blockNumber\", \"params\": [], \"id\": 1})\n",
    "        \n",
    "        if response.status_code == 200:\n",
    "            elapsed_time = time.time() - start_time\n",
    "            print(\"Endpoint:\", endpoint)\n",
    "            print(\"Response Time:\", elapsed_time, \"seconds\")\n",
    "        else:\n",
    "            print(\"Endpoint:\", endpoint)\n",
    "            print(\"Request Failed\")\n",
    "            \n",
    "    except requests.exceptions.RequestException as e:\n",
    "        print(\"Endpoint:\", endpoint)\n",
    "        print(\"Error:\", str(e))\n",
    "    \n",
    "    print(\"---\")"
   ]
  }
 ],
 "metadata": {
  "kernelspec": {
   "display_name": "Python 3",
   "language": "python",
   "name": "python3"
  },
  "language_info": {
   "codemirror_mode": {
    "name": "ipython",
    "version": 3
   },
   "file_extension": ".py",
   "mimetype": "text/x-python",
   "name": "python",
   "nbconvert_exporter": "python",
   "pygments_lexer": "ipython3",
   "version": "3.10.11"
  },
  "orig_nbformat": 4
 },
 "nbformat": 4,
 "nbformat_minor": 2
}
