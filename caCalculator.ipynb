{
 "cells": [
  {
   "cell_type": "markdown",
   "metadata": {},
   "source": [
    "### Calcualte contract address"
   ]
  },
  {
   "cell_type": "code",
   "execution_count": 2,
   "metadata": {},
   "outputs": [],
   "source": [
    "from web3 import Web3"
   ]
  },
  {
   "cell_type": "code",
   "execution_count": 3,
   "metadata": {},
   "outputs": [],
   "source": [
    "contract_code = \"\"\"\n",
    "pragma solidity ^0.8.0;\n",
    "\n",
    "contract ContractAddressCalculator {\n",
    "    function computeContractAddress(address _origin, uint _nonce) external pure returns (address _address) {\n",
    "        bytes memory data;\n",
    "        if(_nonce == 0x00)          data = abi.encodePacked(bytes1(0xd6), bytes1(0x94), _origin, bytes1(0x80));\n",
    "        else if(_nonce <= 0x7f)     data = abi.encodePacked(bytes1(0xd6), bytes1(0x94), _origin, uint8(_nonce));\n",
    "        else if(_nonce <= 0xff)     data = abi.encodePacked(bytes1(0xd7), bytes1(0x94), _origin, bytes1(0x81), uint8(_nonce));\n",
    "        else if(_nonce <= 0xffff)   data = abi.encodePacked(bytes1(0xd8), bytes1(0x94), _origin, bytes1(0x82), uint16(_nonce));\n",
    "        else if(_nonce <= 0xffffff) data = abi.encodePacked(bytes1(0xd9), bytes1(0x94), _origin, bytes1(0x83), uint24(_nonce));\n",
    "        else                        data = abi.encodePacked(bytes1(0xda), bytes1(0x94), _origin, bytes1(0x84), uint32(_nonce));\n",
    "        bytes32 hash = keccak256(data);\n",
    "        assembly {\n",
    "            mstore(0, hash)\n",
    "            _address := mload(0)\n",
    "        }\n",
    "    }\n",
    "}\n",
    "\"\"\""
   ]
  },
  {
   "cell_type": "code",
   "execution_count": 4,
   "metadata": {},
   "outputs": [
    {
     "name": "stdout",
     "output_type": "stream",
     "text": [
      "Address: 0x5D639027789BD9D53c1a32dc1Cb18E6f1A16234c\n",
      "Latest Nonce: 6\n"
     ]
    }
   ],
   "source": [
    "rpc_endpoint = \"https://1rpc.io/base\"\n",
    "address = \"0x5D639027789BD9D53c1a32dc1Cb18E6f1A16234c\"\n",
    "web3 = Web3(Web3.HTTPProvider(rpc_endpoint))\n",
    "nonce = web3.eth.get_transaction_count(address)\n",
    "print(f\"Address: {address}\")\n",
    "print(f\"Latest Nonce: {nonce}\")"
   ]
  }
 ],
 "metadata": {
  "kernelspec": {
   "display_name": "base",
   "language": "python",
   "name": "python3"
  },
  "language_info": {
   "codemirror_mode": {
    "name": "ipython",
    "version": 3
   },
   "file_extension": ".py",
   "mimetype": "text/x-python",
   "name": "python",
   "nbconvert_exporter": "python",
   "pygments_lexer": "ipython3",
   "version": "3.10.11"
  }
 },
 "nbformat": 4,
 "nbformat_minor": 2
}
