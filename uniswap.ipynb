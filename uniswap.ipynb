{
 "cells": [
  {
   "attachments": {},
   "cell_type": "markdown",
   "metadata": {},
   "source": [
    "### Python bot for Uniswap trading"
   ]
  },
  {
   "cell_type": "code",
   "execution_count": null,
   "metadata": {},
   "outputs": [],
   "source": [
    "%pip install web3\n",
    "%pip install uniswap-python"
   ]
  },
  {
   "cell_type": "code",
   "execution_count": 1,
   "metadata": {},
   "outputs": [],
   "source": [
    "import json\n",
    "import math\n",
    "import time\n",
    "import secrets\n",
    "import asyncio\n",
    "import requests\n",
    "import credentials\n",
    "from web3 import Web3\n",
    "from uniswap import Uniswap\n",
    "from eth_account import Account\n",
    "import matplotlib.pyplot as plt\n",
    "from IPython.display import clear_output"
   ]
  },
  {
   "cell_type": "code",
   "execution_count": 2,
   "metadata": {},
   "outputs": [
    {
     "data": {
      "text/plain": [
       "True"
      ]
     },
     "execution_count": 2,
     "metadata": {},
     "output_type": "execute_result"
    }
   ],
   "source": [
    "#Connect to Ethereum\n",
    "\n",
    "#RPC endpoints\n",
    "\n",
    "INFURA_KEY = credentials.infura_key\n",
    "ETHERSCAN_KEY = credentials.etherscan_key\n",
    "QUICKNODE_KEY = credentials.quicknode_key\n",
    "\n",
    "RPC = {\n",
    "    'mainnet': f'https://mainnet.infura.io/v3/{INFURA_KEY}',\n",
    "    'goreli': f'https://goerli.infura.io/v3/{INFURA_KEY}',\n",
    "    'mainnet_ws': f'wss://mainnet.infura.io/ws/v3/{INFURA_KEY}',\n",
    "    'goreli_ws': f'wss://goerli.infura.io/ws/v3/{INFURA_KEY}',\n",
    "    'quicknode': f'https://wider-weathered-theorem.discover.quiknode.pro/{QUICKNODE_KEY}/',\n",
    "    'quicknode_ws': f'wss://wider-weathered-theorem.discover.quiknode.pro/{QUICKNODE_KEY}/',\n",
    "}\n",
    "\n",
    "#Connect to Ethereum mainnet\n",
    "mainnet_ws = RPC['quicknode_ws']\n",
    "w3 = Web3(Web3.WebsocketProvider(mainnet_ws))\n",
    "w3.is_connected()"
   ]
  },
  {
   "cell_type": "code",
   "execution_count": 3,
   "metadata": {},
   "outputs": [],
   "source": [
    "def initialize_wallet(option):\n",
    "    if option == 1:\n",
    "        #Get a new wallet to trade with\n",
    "        prive_key = secrets.token_hex(32)\n",
    "        account = Account.from_key(prive_key)\n",
    "        account_info = {\n",
    "            \"account\": account,\n",
    "            \"private_key\": prive_key,\n",
    "            \"address\": account.address\n",
    "        }\n",
    "        return account_info\n",
    "    elif option == 2:\n",
    "        #Import wallet with funds\n",
    "        prive_key_imported = input(\"Enter your private key: \")\n",
    "        account_imported = Account.from_key(prive_key_imported)\n",
    "        account_info = {\n",
    "            \"account\": account_imported,\n",
    "            \"private_key\": prive_key_imported,\n",
    "            \"address\": account_imported.address\n",
    "        }\n",
    "        return account_info\n",
    "    print(\"Invalid option\")\n",
    "    return None"
   ]
  },
  {
   "cell_type": "code",
   "execution_count": 15,
   "metadata": {},
   "outputs": [],
   "source": [
    "def get_abi(contract_address):\n",
    "    #Get Contract ABI with Etherscan API\n",
    "    api_key = ETHERSCAN_KEY\n",
    "    url = 'https://api.etherscan.io/api'\n",
    "    params = {\n",
    "        'module': 'contract',\n",
    "        'action': 'getabi',\n",
    "        'address': contract_address,\n",
    "        'apikey': api_key\n",
    "    }\n",
    "    response = requests.get(url, params=params)\n",
    "    data = response.json()\n",
    "    if data['status'] != '1':\n",
    "        print(\"Error: \", data['message'])\n",
    "        return None\n",
    "    else:\n",
    "        abi = data['result']\n",
    "        return abi\n",
    "\n",
    "def get_token_info(token_address):\n",
    "        abi = get_abi(token_address)\n",
    "        #Initialize contract\n",
    "        contract = w3.eth.contract(address=token_address, abi=abi)\n",
    "        #Get token info\n",
    "        totalsupply, decimals, symbol, owner = None, None, None, None\n",
    "        try:\n",
    "            totalsupply = contract.functions.totalSupply().call()\n",
    "            decimals = contract.functions.decimals().call()\n",
    "            symbol = contract.functions.symbol().call()\n",
    "            owner = contract.functions.owner().call()\n",
    "        except:\n",
    "            pass\n",
    "        token_info = {\n",
    "            \"totalsupply\": totalsupply,\n",
    "            \"decimals\": decimals,\n",
    "            \"symbol\": symbol,\n",
    "            \"owner\": owner\n",
    "        }\n",
    "        return token_info"
   ]
  },
  {
   "attachments": {},
   "cell_type": "markdown",
   "metadata": {},
   "source": [
    "### Method 1: Using Uniswap SDK python wrapper"
   ]
  },
  {
   "cell_type": "code",
   "execution_count": 5,
   "metadata": {},
   "outputs": [],
   "source": [
    "#Initialize Uniswap Object\n",
    "account_info = initialize_wallet(1)\n",
    "\n",
    "address = account_info['address']\n",
    "private_key = account_info['private_key']\n",
    "version = 2\n",
    "provider = RPC['mainnet']\n",
    "\n",
    "uniswap_v2 = Uniswap(address=address, private_key=private_key, version=version, provider=provider)\n",
    "\n",
    "version = 3\n",
    "uniswap_v3 = Uniswap(address=address, private_key=private_key, version=version, provider=provider)"
   ]
  },
  {
   "cell_type": "code",
   "execution_count": 6,
   "metadata": {},
   "outputs": [],
   "source": [
    "def conversion(rate_1, rate_2, decimal_1, decimal_2):\n",
    "    conversion = ((1 / rate_1) * (rate_2 / 10 ** decimal_2)) * 10 ** decimal_1\n",
    "    return conversion"
   ]
  },
  {
   "cell_type": "code",
   "execution_count": 13,
   "metadata": {},
   "outputs": [
    {
     "name": "stdout",
     "output_type": "stream",
     "text": [
      "{'totalsupply': 88888888888800, 'decimals': 2, 'symbol': 'BIAO', 'owner': '0x0000000000000000000000000000000000000000'}\n"
     ]
    },
    {
     "name": "stderr",
     "output_type": "stream",
     "text": [
      "No fee set, assuming 0.3%\n"
     ]
    },
    {
     "name": "stdout",
     "output_type": "stream",
     "text": [
      "V2:\n",
      "1 BIAO = 5.922184993957105e-06 USDT\n",
      "1 ETH = 313427910.12 BIAO\n",
      "execution reverted\n"
     ]
    }
   ],
   "source": [
    "#Token info\n",
    "weth = Web3.to_checksum_address(\"0xC02aaA39b223FE8D0A0e5C4F27eAD9083C756Cc2\")\n",
    "usdt = Web3.to_checksum_address(\"0xdac17f958d2ee523a2206206994597c13d831ec7\")\n",
    "\n",
    "addr = Web3.to_checksum_address(\"0x00282FD551D03dC033256C4bf119532e8C735D8a\")\n",
    "token_info = get_token_info(addr)\n",
    "print(token_info)\n",
    "\n",
    "#USDT rate for dollar denominations\n",
    "usdt_rate = uniswap_v2.get_price_input(weth, usdt, qty=10 ** 18)\n",
    "\n",
    "#Search for token pair in Uniswap v2\n",
    "try:\n",
    "    token_rate = uniswap_v2.get_price_input(weth, addr, qty=10 ** 18)\n",
    "    print(\"V2:\")\n",
    "    print(f\"1 {token_info['symbol']} = {conversion(token_rate, usdt_rate, token_info['decimals'], 6)} USDT\")\n",
    "    print(f\"1 ETH = {conversion(1, token_rate, 0, token_info['decimals'])} {token_info['symbol']}\")\n",
    "except Exception as error:\n",
    "    print(error)\n",
    "\n",
    "#Search for token pair in Uniswap v3\n",
    "try:\n",
    "    token_rate = uniswap_v3.get_price_input(weth, addr, qty=10 ** 18)\n",
    "    print(\"V3:\")\n",
    "    print(f\"1 {token_info['symbol']} = {conversion(token_rate, usdt_rate, token_info['decimals'], 6)} USDT\")\n",
    "    print(f\"1 ETH = {conversion(1, token_rate, 0, token_info['decimals'])} {token_info['symbol']}\")\n",
    "except Exception as error:\n",
    "    print(error)"
   ]
  },
  {
   "attachments": {},
   "cell_type": "markdown",
   "metadata": {},
   "source": [
    "### Method 2: Using Query the blockchain directly"
   ]
  },
  {
   "cell_type": "code",
   "execution_count": 51,
   "metadata": {},
   "outputs": [
    {
     "name": "stdout",
     "output_type": "stream",
     "text": [
      "Token 0 (WETH) reserve: 2531.3744175001248\n",
      "Token 1 (PEPE) reserve: 3698643184785.309\n",
      "True token price:\n",
      "1 WETH = 1461120551.4346344 Token\n"
     ]
    }
   ],
   "source": [
    "#Uniswap V2, token pair address\n",
    "UNISWAP_V2_FACTORY = Web3.to_checksum_address(\"0x5C69bEe701ef814a2B6a3EDD4B1652CB9cc5aA6f\")\n",
    "USDT = Web3.to_checksum_address(\"0xdac17f958d2ee523a2206206994597c13d831ec7\")\n",
    "WETH = Web3.to_checksum_address(\"0xC02aaA39b223FE8D0A0e5C4F27eAD9083C756Cc2\")\n",
    "\n",
    "TOKEN_0 =  Web3.to_checksum_address(\"0x6982508145454Ce325dDbE47a25d4ec3d2311933\")\n",
    "TOKEN_1 = WETH\n",
    "\n",
    "#Get token info\n",
    "token_0_info = get_token_info(TOKEN_0)\n",
    "token_1_info = get_token_info(TOKEN_1)\n",
    "#Get token decimals\n",
    "token_0_decimals = token_0_info['decimals']\n",
    "token_1_decimals = token_1_info['decimals']\n",
    "#Get token symbol\n",
    "token_0_symbol = token_0_info['symbol']\n",
    "token_1_symbol = token_1_info['symbol']\n",
    "\n",
    "#Get Uniswap V2 Factory Contract ABI\n",
    "abi_v2 = get_abi(UNISWAP_V2_FACTORY)\n",
    "#Initialize contract\n",
    "contract_v2 = w3.eth.contract(address=UNISWAP_V2_FACTORY, abi=abi_v2)\n",
    "#Get token pair address\n",
    "pair_address = contract_v2.functions.getPair(TOKEN_0, TOKEN_1).call()\n",
    "\n",
    "#Calculate token price using getReserves() function\n",
    "abi_pair = get_abi(pair_address)\n",
    "contract_pair = w3.eth.contract(address=pair_address, abi=abi_pair)\n",
    "reserve = contract_pair.functions.getReserves().call()\n",
    "\n",
    "#Caculate token pair rate\n",
    "\n",
    "if TOKEN_1 < TOKEN_0:\n",
    "    token_0_reserve = reserve[1]/10**token_0_decimals\n",
    "    token_1_reserve = reserve[0]/10**token_1_decimals\n",
    "    token_pair_rate = token_1_reserve/token_0_reserve\n",
    "\n",
    "else:\n",
    "    token_0_reserve = reserve[0]/10**token_0_decimals\n",
    "    token_1_reserve = reserve[1]/10**token_1_decimals\n",
    "    token_pair_rate = token_0_reserve/token_1_reserve\n",
    "\n",
    "print(f\"Token 0 ({token_0_symbol}) reserve: {token_0_reserve}\")\n",
    "print(f\"Token 1 ({token_1_symbol}) reserve: {token_1_reserve}\")\n",
    "\n",
    "#Raw token rate\n",
    "print(\"True token price:\")\n",
    "print(f\"1 WETH = {token_pair_rate} Token\")\n",
    "\n",
    "#Caculate the cumulative price using priceCumulativeLast() function\n",
    "token_0_price_cumulative_last = contract_pair.functions.price0CumulativeLast().call()\n",
    "token_1_price_cumulative_last = contract_pair.functions.price1CumulativeLast().call()\n"
   ]
  },
  {
   "attachments": {},
   "cell_type": "markdown",
   "metadata": {},
   "source": [
    "### Token Monitor mode"
   ]
  },
  {
   "cell_type": "code",
   "execution_count": null,
   "metadata": {},
   "outputs": [],
   "source": [
    "price_chart = []\n",
    "while True:\n",
    "    reserve = contract_pair.functions.getReserves().call()\n",
    "\n",
    "    if TOKEN_1 < TOKEN_0:\n",
    "        token_0_reserve = reserve[1]/10**token_0_decimals\n",
    "        token_1_reserve = reserve[0]/10**token_1_decimals\n",
    "        token_pair_rate = token_1_reserve/token_0_reserve\n",
    "    else:\n",
    "        token_0_reserve = reserve[0]/10**token_0_decimals\n",
    "        token_1_reserve = reserve[1]/10**token_1_decimals\n",
    "        token_pair_rate = token_0_reserve/token_1_reserve\n",
    "\n",
    "    price_chart.append(token_pair_rate)\n",
    "    \n",
    "    clear_output(wait=True)\n",
    "    print(\"Token 0 reserve:\", token_0_reserve)\n",
    "    print(\"Token 1 reserve:\", token_1_reserve)\n",
    "\n",
    "    #Raw token rate\n",
    "    print(\"Raw token rate:\")\n",
    "    print(\"1 WETH =\", token_pair_rate, \"Token\")\n",
    "    plt.plot(price_chart)\n",
    "    plt.show()\n",
    "    time.sleep(5)"
   ]
  },
  {
   "cell_type": "code",
   "execution_count": 15,
   "metadata": {},
   "outputs": [],
   "source": [
    "# Monitor the memepool of a given token\n",
    "\n",
    "# addr = Web3.to_checksum_address(\"0x955d5c14c8d4944da1ea7836bd44d54a8ec35ba1\")\n",
    "# token_info = get_token_info(addr)\n",
    "# print(token_info)"
   ]
  },
  {
   "attachments": {},
   "cell_type": "markdown",
   "metadata": {},
   "source": [
    "### Uniswap Fundamentals"
   ]
  },
  {
   "cell_type": "code",
   "execution_count": 82,
   "metadata": {},
   "outputs": [
    {
     "name": "stdout",
     "output_type": "stream",
     "text": [
      "before\n",
      "The LP has 100000 DAI and 1000 WETH\n",
      "price of 1 DAI = 0.01 WETH\n",
      "price of 1 WETH = 100.0 DAI\n",
      "after\n",
      "The LP has 122474.48713915891 DAI and 816.496580927726 WETH\n",
      "price of 1 DAI = 0.006666666666666666 WETH\n",
      "price of 1 WETH = 150.00000000000003 DAI\n",
      "Hold value = 25000 DAI\n",
      "LP share value = 24494.897427831784 DAI\n",
      "Impermanent loss = -505.1025721682163 DAI -2.020410288672865 %\n"
     ]
    }
   ],
   "source": [
    "#constant product formula\n",
    "# x * y = k\n",
    "#Assume initial liquidity of 100000DAI and 1000WETH\n",
    "#Our share is 10000DAI and 100WETH (10%)\n",
    "x = 100000\n",
    "y = 1000\n",
    "k = x * y\n",
    "print(\"before\")\n",
    "print(\"The LP has\", x, \"DAI and\", y, \"WETH\")\n",
    "print(\"price of 1 DAI =\", y/x, \"WETH\")\n",
    "print(\"price of 1 WETH =\", x/y, \"DAI\")\n",
    "\n",
    "#Now assume that the price of ETH increases to 150DAI\n",
    "\n",
    "#find new x and y such that x/y = 150 and x * y = k\n",
    "\n",
    "y = math.sqrt(k / 150)\n",
    "x = math.sqrt(k * 150)\n",
    "print(\"after\")\n",
    "print(\"The LP has\", x, \"DAI and\", y, \"WETH\")\n",
    "print(\"price of 1 DAI =\", y/x, \"WETH\")\n",
    "print(\"price of 1 WETH =\", x/y, \"DAI\")\n",
    "\n",
    "#Find the impermanent loss\n",
    "\n",
    "hold_value = 10000 + 100 * 150\n",
    "print(\"Hold value =\", hold_value, \"DAI\")\n",
    "LP_share_value = x*0.1 + y*0.1*150\n",
    "print(\"LP share value =\", LP_share_value, \"DAI\")\n",
    "impermanent_loss = LP_share_value - hold_value\n",
    "print(\"Impermanent loss =\", impermanent_loss, \"DAI\", impermanent_loss/hold_value*100,\"%\")\n"
   ]
  }
 ],
 "metadata": {
  "kernelspec": {
   "display_name": "trading",
   "language": "python",
   "name": "python3"
  },
  "language_info": {
   "codemirror_mode": {
    "name": "ipython",
    "version": 3
   },
   "file_extension": ".py",
   "mimetype": "text/x-python",
   "name": "python",
   "nbconvert_exporter": "python",
   "pygments_lexer": "ipython3",
   "version": "3.10.11"
  },
  "orig_nbformat": 4
 },
 "nbformat": 4,
 "nbformat_minor": 2
}
