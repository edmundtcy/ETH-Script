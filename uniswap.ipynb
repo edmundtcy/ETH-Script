{
 "cells": [
  {
   "attachments": {},
   "cell_type": "markdown",
   "metadata": {},
   "source": [
    "### Python bot for Uniswap trading"
   ]
  },
  {
   "cell_type": "code",
   "execution_count": null,
   "metadata": {},
   "outputs": [],
   "source": [
    "%pip install web3\n",
    "%pip install uniswap-python"
   ]
  },
  {
   "cell_type": "code",
   "execution_count": 1,
   "metadata": {},
   "outputs": [],
   "source": [
    "import math\n",
    "import time\n",
    "import secrets\n",
    "import requests\n",
    "import credentials\n",
    "from web3 import Web3\n",
    "from uniswap import Uniswap\n",
    "from eth_account import Account\n",
    "import matplotlib.pyplot as plt\n",
    "from IPython.display import clear_output"
   ]
  },
  {
   "cell_type": "code",
   "execution_count": 2,
   "metadata": {},
   "outputs": [
    {
     "data": {
      "text/plain": [
       "True"
      ]
     },
     "execution_count": 2,
     "metadata": {},
     "output_type": "execute_result"
    }
   ],
   "source": [
    "#Connect to Ethereum\n",
    "\n",
    "#RPC endpoints\n",
    "\n",
    "INFURA_KEY = credentials.infura_key\n",
    "ETHERSCAN_KEY = credentials.etherscan_key\n",
    "QUICKNODE_KEY = credentials.quicknode_key\n",
    "\n",
    "RPC = {\n",
    "    'mainnet': f'https://mainnet.infura.io/v3/{INFURA_KEY}',\n",
    "    'goreli': f'https://goerli.infura.io/v3/{INFURA_KEY}',\n",
    "    'mainnet_ws': f'wss://mainnet.infura.io/ws/v3/{INFURA_KEY}',\n",
    "    'goreli_ws': f'wss://goerli.infura.io/ws/v3/{INFURA_KEY}',\n",
    "    'quicknode': f'https://wider-weathered-theorem.discover.quiknode.pro/{QUICKNODE_KEY}/',\n",
    "    'quicknode_ws': f'wss://wider-weathered-theorem.discover.quiknode.pro/{QUICKNODE_KEY}/',\n",
    "}\n",
    "\n",
    "#Connect to Ethereum mainnet\n",
    "mainnet_ws = RPC['quicknode_ws']\n",
    "w3 = Web3(Web3.WebsocketProvider(mainnet_ws))\n",
    "w3.is_connected()"
   ]
  },
  {
   "cell_type": "code",
   "execution_count": 3,
   "metadata": {},
   "outputs": [],
   "source": [
    "def initialize_wallet(option):\n",
    "    if option == 1:\n",
    "        #Get a new wallet to trade with\n",
    "        prive_key = secrets.token_hex(32)\n",
    "        account = Account.from_key(prive_key)\n",
    "        account_info = {\n",
    "            \"account\": account,\n",
    "            \"private_key\": prive_key,\n",
    "            \"address\": account.address\n",
    "        }\n",
    "        return account_info\n",
    "    elif option == 2:\n",
    "        #Import wallet with funds\n",
    "        prive_key_imported = input(\"Enter your private key: \")\n",
    "        account_imported = Account.from_key(prive_key_imported)\n",
    "        account_info = {\n",
    "            \"account\": account_imported,\n",
    "            \"private_key\": prive_key_imported,\n",
    "            \"address\": account_imported.address\n",
    "        }\n",
    "        return account_info\n",
    "    print(\"Invalid option\")\n",
    "    return None"
   ]
  },
  {
   "cell_type": "code",
   "execution_count": 4,
   "metadata": {},
   "outputs": [],
   "source": [
    "def get_abi(contract_address):\n",
    "    #Get Contract ABI with Etherscan API\n",
    "    api_key = ETHERSCAN_KEY\n",
    "    url = 'https://api.etherscan.io/api'\n",
    "    params = {\n",
    "        'module': 'contract',\n",
    "        'action': 'getabi',\n",
    "        'address': contract_address,\n",
    "        'apikey': api_key\n",
    "    }\n",
    "    response = requests.get(url, params=params)\n",
    "    data = response.json()\n",
    "    if data['status'] != '1':\n",
    "        print(\"Error: \", data['message'])\n",
    "        return None\n",
    "    else:\n",
    "        abi = data['result']\n",
    "        return abi\n",
    "\n",
    "def get_token_info(token_address):\n",
    "        abi = get_abi(token_address)\n",
    "        #Initialize contract\n",
    "        contract = w3.eth.contract(address=token_address, abi=abi)\n",
    "        #Get token info\n",
    "        totalsupply, decimals, symbol, owner = None, None, None, None\n",
    "        try:\n",
    "            totalsupply = contract.functions.totalSupply().call()\n",
    "            decimals = contract.functions.decimals().call()\n",
    "            symbol = contract.functions.symbol().call()\n",
    "            owner = contract.functions.owner().call()\n",
    "        except:\n",
    "            pass\n",
    "        token_info = {\n",
    "            \"totalsupply\": totalsupply,\n",
    "            \"decimals\": decimals,\n",
    "            \"symbol\": symbol,\n",
    "            \"owner\": owner\n",
    "        }\n",
    "        return token_info"
   ]
  },
  {
   "attachments": {},
   "cell_type": "markdown",
   "metadata": {},
   "source": [
    "### Method 1: Using Uniswap SDK python wrapper"
   ]
  },
  {
   "cell_type": "code",
   "execution_count": 5,
   "metadata": {},
   "outputs": [],
   "source": [
    "#Initialize Uniswap Object\n",
    "account_info = initialize_wallet(1)\n",
    "\n",
    "address = account_info['address']\n",
    "private_key = account_info['private_key']\n",
    "version = 2\n",
    "provider = RPC['mainnet']\n",
    "\n",
    "uniswap_v2 = Uniswap(address=address, private_key=private_key, version=version, provider=provider)\n",
    "\n",
    "version = 3\n",
    "uniswap_v3 = Uniswap(address=address, private_key=private_key, version=version, provider=provider)"
   ]
  },
  {
   "cell_type": "code",
   "execution_count": 6,
   "metadata": {},
   "outputs": [],
   "source": [
    "def conversion(rate_1, rate_2, decimal_1, decimal_2):\n",
    "    conversion = ((1 / rate_1) * (rate_2 / 10 ** decimal_2)) * 10 ** decimal_1\n",
    "    return conversion"
   ]
  },
  {
   "cell_type": "code",
   "execution_count": 7,
   "metadata": {},
   "outputs": [
    {
     "name": "stdout",
     "output_type": "stream",
     "text": [
      "{'totalsupply': 420690000000000000000000000000000, 'decimals': 18, 'symbol': 'PEPE2.0', 'owner': '0x0000000000000000000000000000000000000000'}\n",
      "V2:\n",
      "Sell price\n",
      "1 ETH = 26922332437.090355 PEPE2.0\n",
      "Buy price\n",
      "1 ETH = 27216792969.430725 PEPE2.0\n"
     ]
    }
   ],
   "source": [
    "#Token info\n",
    "weth = Web3.to_checksum_address(\"0xC02aaA39b223FE8D0A0e5C4F27eAD9083C756Cc2\")\n",
    "usdt = Web3.to_checksum_address(\"0xdac17f958d2ee523a2206206994597c13d831ec7\")\n",
    "usdc = Web3.to_checksum_address(\"0xA0b86991c6218b36c1d19D4a2e9Eb0cE3606eB48\")\n",
    "addr = Web3.to_checksum_address(\"0xfb66321d7c674995dfcc2cb67a30bc978dc862ad\")\n",
    "token_info = get_token_info(addr)\n",
    "print(token_info)\n",
    "\n",
    "#Search for token pair in Uniswap v2\n",
    "try:\n",
    "    print(\"V2:\")\n",
    "    print(f\"Sell price\")\n",
    "    token_rate = uniswap_v2.get_price_input(weth, addr, qty=10 ** 18)\n",
    "    print(f\"1 ETH = {conversion(1, token_rate, 0, token_info['decimals'])} {token_info['symbol']}\")\n",
    "\n",
    "    print(f\"Buy price\")\n",
    "    token_rate = uniswap_v2.get_price_output(addr, weth, qty=10 ** 18)\n",
    "    print(f\"1 ETH = {conversion(1, token_rate, 0, token_info['decimals'])} {token_info['symbol']}\")\n",
    "    \n",
    "except Exception as error:\n",
    "    print(error)\n",
    "\n",
    "# #Search for token pair in Uniswap v3\n",
    "# try:\n",
    "#     token_rate = uniswap_v3.get_price_input(weth, addr, qty=10 ** 18)\n",
    "#     print(\"V3:\")\n",
    "#     print(f\"1 {token_info['symbol']} = {conversion(token_rate, usdt_rate, token_info['decimals'], 6)} USDT\")\n",
    "#     print(f\"1 ETH = {conversion(1, token_rate, 0, token_info['decimals'])} {token_info['symbol']}\")\n",
    "# except Exception as error:\n",
    "#     print(error)"
   ]
  },
  {
   "attachments": {},
   "cell_type": "markdown",
   "metadata": {},
   "source": [
    "### Method 2: Using Query the blockchain directly"
   ]
  },
  {
   "cell_type": "code",
   "execution_count": 9,
   "metadata": {},
   "outputs": [
    {
     "name": "stdout",
     "output_type": "stream",
     "text": [
      "Pair address: 0x076a3e1500f3110D8F4445D396A3d7cA6D0Ca269\n",
      "2\n",
      "Token 0 (PEPE2.0) reserve: 11111475785059.584\n",
      "Token 1 (WETH) reserve: 409.8127890641788\n",
      "Block timestamp last: 1689352355\n",
      "\n",
      "Raw token price: 1 token_1 = 27113540820.51224 token_0\n",
      "True token price: Max amount (out) given 1 token_1 in: 26966595374.809143\n",
      "True token price: Min amount (in) given 1 token_1 out:  27261849057.52026\n"
     ]
    }
   ],
   "source": [
    "#Uniswap V2, token pair address\n",
    "UNISWAP_V2_FACTORY = Web3.to_checksum_address(\"0x5C69bEe701ef814a2B6a3EDD4B1652CB9cc5aA6f\")\n",
    "\n",
    "USDT = Web3.to_checksum_address(\"0xdac17f958d2ee523a2206206994597c13d831ec7\")\n",
    "USDC = Web3.to_checksum_address(\"0xA0b86991c6218b36c1d19D4a2e9Eb0cE3606eB48\")\n",
    "WETH = Web3.to_checksum_address(\"0xC02aaA39b223FE8D0A0e5C4F27eAD9083C756Cc2\")\n",
    "WBTC= Web3.to_checksum_address(\"0x2260FAC5E5542a773Aa44fBCfeDf7C193bc2C599\")\n",
    "PEPE = Web3.to_checksum_address(\"0x6982508145454Ce325dDbE47a25d4ec3d2311933\")\n",
    "\n",
    "TOKEN_0 = Web3.to_checksum_address(\"0xfb66321d7c674995dfcc2cb67a30bc978dc862ad\")\n",
    "TOKEN_1 = WETH\n",
    "\n",
    "#Get token info\n",
    "token_0_info = get_token_info(TOKEN_0)\n",
    "token_1_info = get_token_info(TOKEN_1)\n",
    "#Get token decimals\n",
    "token_0_decimals = token_0_info['decimals']\n",
    "token_1_decimals = token_1_info['decimals']\n",
    "#Get token symbol\n",
    "token_0_symbol = token_0_info['symbol']\n",
    "token_1_symbol = token_1_info['symbol']\n",
    "\n",
    "#Get Uniswap V2 Factory Contract ABI\n",
    "abi_v2 = get_abi(UNISWAP_V2_FACTORY)\n",
    "#Initialize contract\n",
    "contract_v2 = w3.eth.contract(address=UNISWAP_V2_FACTORY, abi=abi_v2)\n",
    "#Get token pair address\n",
    "pair_address = contract_v2.functions.getPair(TOKEN_0, TOKEN_1).call()\n",
    "print(f\"Pair address: {pair_address}\")\n",
    "\n",
    "if w3.to_int(hexstr=pair_address) == 0:\n",
    "    print(\"Pair not found\")\n",
    "    raise\n",
    "\n",
    "#Calculate token price using getReserves() function\n",
    "abi_pair = get_abi(pair_address)\n",
    "contract_pair = w3.eth.contract(address=pair_address, abi=abi_pair)\n",
    "reserve = contract_pair.functions.getReserves().call()\n",
    "\n",
    "#Caculate token pair rate\n",
    "if TOKEN_0 < TOKEN_1:\n",
    "    token_0_reserve = reserve[0]/10**token_0_decimals\n",
    "    token_1_reserve = reserve[1]/10**token_1_decimals\n",
    "    print(\"1\")\n",
    "else:\n",
    "    token_0_reserve = reserve[1]/10**token_0_decimals\n",
    "    token_1_reserve = reserve[0]/10**token_1_decimals\n",
    "    print(\"2\")\n",
    "token_pair_rate = token_0_reserve/token_1_reserve\n",
    "\n",
    "print(f\"Token 0 ({token_0_symbol}) reserve: {token_0_reserve}\")\n",
    "print(f\"Token 1 ({token_1_symbol}) reserve: {token_1_reserve}\")\n",
    "print(f\"Block timestamp last: {reserve[2]}\\n\")\n",
    "\n",
    "#Raw token rate\n",
    "print(f\"Raw token price: 1 token_1 = {token_pair_rate} token_0\")\n",
    "\n",
    "#AmountIn rate\n",
    "if TOKEN_1<TOKEN_0:\n",
    "    reserveOut = reserve[1]/10**token_0_decimals\n",
    "    reserveIn = reserve[0]/10**token_1_decimals #Base token\n",
    "else:\n",
    "    reserveOut = reserve[0]/10**token_0_decimals\n",
    "    reserveIn = reserve[1]/10**token_1_decimals #Base token\n",
    "\n",
    "amountIn = 1 #1 WETH\n",
    "amountIn = amountIn * 997/1000 #fee 0.3%\n",
    "amountOut = amountIn*reserveOut/(reserveIn+amountIn)\n",
    "print(f\"True token price: Max amount (out) given 1 token_1 in: {amountOut}\")\n",
    "\n",
    "#AmountOut rate\n",
    "if TOKEN_1<TOKEN_0:\n",
    "    reserveIn = reserve[1]/10**token_0_decimals\n",
    "    reserveOut = reserve[0]/10**token_1_decimals #Base token\n",
    "else:\n",
    "    reserveIn = reserve[0]/10**token_0_decimals\n",
    "    reserveOut = reserve[1]/10**token_1_decimals #Base token\n",
    "\n",
    "amountOut = 1 #1 WETH\n",
    "amountOut = amountOut * 1000/997 #fee 0.3%\n",
    "amountIn = amountOut * reserveIn / (reserveOut - amountOut)\n",
    "print(f\"True token price: Min amount (in) given 1 token_1 out:  {amountIn}\")"
   ]
  },
  {
   "attachments": {},
   "cell_type": "markdown",
   "metadata": {},
   "source": [
    "### Query multiple uniswap pairs (routing)"
   ]
  },
  {
   "cell_type": "code",
   "execution_count": 10,
   "metadata": {},
   "outputs": [
    {
     "name": "stdout",
     "output_type": "stream",
     "text": [
      "[1, 0.0005047201450702597, 568460.3772568515]\n"
     ]
    }
   ],
   "source": [
    "#path = [token_0, token_1, token_2, ..., token_n]\n",
    "#Swap token_0 -> token_1,  Swap token_1 -> token_2, ..., Swap token_n-1 -> token_n\n",
    "def pathFinder(token_0, token_1):\n",
    "    path = [token_0]\n",
    "    #check if token_0 and token_1 pair exist\n",
    "    pair_address = contract_v2.functions.getPair(token_0, token_1).call()\n",
    "    if w3.to_int(hexstr=pair_address) != 0:\n",
    "        path.append(token_1)\n",
    "        return path #return direct path\n",
    "    else:\n",
    "        #if path does not exist, try pairing it with WETH\n",
    "        pair_address0 = contract_v2.functions.getPair(token_0, WETH).call()\n",
    "        pair_address1 = contract_v2.functions.getPair(token_1, WETH).call()\n",
    "        if w3.to_int(hexstr=pair_address0) != 0 and w3.to_int(hexstr=pair_address1) != 0:\n",
    "            path.append(WETH)\n",
    "            path.append(token_1)\n",
    "            return path\n",
    "        else:\n",
    "            return None\n",
    "\n",
    "#Given x token_0 in find max amount of token_1 out\n",
    "def AmountIn(token_0, token_1, amountIn):\n",
    "    #get token pair address\n",
    "    pair_address = contract_v2.functions.getPair(token_0, token_1).call()\n",
    "    if w3.to_int(hexstr=pair_address) != 0:\n",
    "        #get reserve\n",
    "        abi_pair = get_abi(pair_address)\n",
    "        contract_pair = w3.eth.contract(address=pair_address, abi=abi_pair)\n",
    "        reserve = contract_pair.functions.getReserves().call()\n",
    "        #get token info\n",
    "        token_0_info = get_token_info(token_0)\n",
    "        token_1_info = get_token_info(token_1)\n",
    "        #get token decimals\n",
    "        token_0_decimals = token_0_info['decimals']\n",
    "        token_1_decimals = token_1_info['decimals']\n",
    "        #caculate amountIn\n",
    "        if token_0 < token_1: #token_0 = token in, token_1 = token out\n",
    "            reserveIn = reserve[0]/10**token_0_decimals\n",
    "            reserveOut = reserve[1]/10**token_1_decimals\n",
    "        else:\n",
    "            reserveIn = reserve[1]/10**token_0_decimals\n",
    "            reserveOut = reserve[0]/10**token_1_decimals\n",
    "\n",
    "        amountIn = amountIn * 997/1000 #fee 0.3%\n",
    "        amountOut = amountIn*reserveOut/(reserveIn+amountIn)\n",
    "        return amountOut\n",
    "    else:\n",
    "        return None\n",
    "\n",
    "#Give x token_0 out find min amount of token_1 in\n",
    "def AmountOut(token_0, token_1, amountOut):\n",
    "    pair_address = contract_v2.functions.getPair(token_0, token_1).call()\n",
    "    if w3.to_int(hexstr=pair_address) != 0:\n",
    "        abi_pair = get_abi(pair_address)\n",
    "        contract_pair = w3.eth.contract(address=pair_address, abi=abi_pair)\n",
    "        reserve = contract_pair.functions.getReserves().call()\n",
    "        token_0_info = get_token_info(token_0)\n",
    "        token_1_info = get_token_info(token_1)\n",
    "        token_0_decimals = token_0_info['decimals']\n",
    "        token_1_decimals = token_1_info['decimals']\n",
    "        if token_0 < token_1: #token_0 = token out, token_1 = token in\n",
    "            reserveOut = reserve[0]/10**token_0_decimals\n",
    "            reserveIn = reserve[1]/10**token_1_decimals\n",
    "        else:\n",
    "            reserveOut = reserve[1]/10**token_0_decimals\n",
    "            reserveIn = reserve[0]/10**token_1_decimals\n",
    "        amountOut = amountOut * 1000/997 #fee 0.3%\n",
    "        amountIn = amountOut * reserveIn / (reserveOut - amountOut)\n",
    "        return amountIn\n",
    "    else:\n",
    "        return None\n",
    "    \n",
    "# Chained amountIn\n",
    "def chainedAmountIn(token_0, token_1, amountIn):\n",
    "    path = pathFinder(token_0, token_1)\n",
    "    amount = [amountIn]\n",
    "    if path != None:\n",
    "        for i in range(len(path)-1):\n",
    "            amount.append(AmountIn(path[i], path[i+1], amount[i]))\n",
    "        return amount\n",
    "    else:\n",
    "        return None\n",
    "\n",
    "# Chained amountOut\n",
    "def chainedAmountOut(token_0, token_1, amountOut):\n",
    "    path = pathFinder(token_0, token_1)\n",
    "    amount = [amountOut]\n",
    "    if path != None:\n",
    "        for i in range(len(path)-1):\n",
    "            amount.append(AmountOut(path[i], path[i+1], amount[i]))\n",
    "        return amount\n",
    "    else:\n",
    "        return None\n",
    "    \n",
    "# print(chainedAmountIn(USDT, PEPE, 1))\n",
    "print(chainedAmountOut(USDT, PEPE, 1))\n",
    "\n",
    "#Caculate the cumulative price using priceCumulativeLast() function\n",
    "# token_0_price_cumulative_last = contract_pair.functions.price0CumulativeLast().call()\n",
    "# token_1_price_cumulative_last = contract_pair.functions.price1CumulativeLast().call()"
   ]
  },
  {
   "attachments": {},
   "cell_type": "markdown",
   "metadata": {},
   "source": [
    "### Token Monitor mode"
   ]
  },
  {
   "cell_type": "code",
   "execution_count": 11,
   "metadata": {},
   "outputs": [
    {
     "name": "stdout",
     "output_type": "stream",
     "text": [
      "Token 0 (PEPE2.0) reserve: 11109460046121.273\n",
      "Token 1 (WETH) reserve: 411.0876036569386\n",
      "Raw token rate:\n",
      "1 WETH = 27024556195.06434 Token\n"
     ]
    },
    {
     "data": {
      "image/png": "[encoded data removed]",
      "text/plain": [
       "<Figure size 640x480 with 1 Axes>"
      ]
     },
     "metadata": {},
     "output_type": "display_data"
    },
    {
     "ename": "KeyboardInterrupt",
     "evalue": "",
     "output_type": "error",
     "traceback": [
      "\u001b[1;31m---------------------------------------------------------------------------\u001b[0m",
      "\u001b[1;31mKeyboardInterrupt\u001b[0m                         Traceback (most recent call last)",
      "\u001b[1;32mc:\\Users\\Love\\Documents\\GitHub\\ETH-Script\\uniswap.ipynb Cell 16\u001b[0m in \u001b[0;36m2\n\u001b[0;32m     <a href='vscode-notebook-cell:/c%3A/Users/Love/Documents/GitHub/ETH-Script/uniswap.ipynb#X21sZmlsZQ%3D%3D?line=23'>24</a>\u001b[0m plt\u001b[39m.\u001b[39mplot(price_chart)\n\u001b[0;32m     <a href='vscode-notebook-cell:/c%3A/Users/Love/Documents/GitHub/ETH-Script/uniswap.ipynb#X21sZmlsZQ%3D%3D?line=24'>25</a>\u001b[0m plt\u001b[39m.\u001b[39mshow()\n\u001b[1;32m---> <a href='vscode-notebook-cell:/c%3A/Users/Love/Documents/GitHub/ETH-Script/uniswap.ipynb#X21sZmlsZQ%3D%3D?line=25'>26</a>\u001b[0m time\u001b[39m.\u001b[39;49msleep(refresh)\n",
      "\u001b[1;31mKeyboardInterrupt\u001b[0m: "
     ]
    }
   ],
   "source": [
    "price_chart = []\n",
    "refresh = int(input(\"Enter the refresh time in seconds: \"))\n",
    "while True:\n",
    "    reserve = contract_pair.functions.getReserves().call()\n",
    "\n",
    "    if TOKEN_1 < TOKEN_0:\n",
    "        token_0_reserve = reserve[1]/10**token_0_decimals\n",
    "        token_1_reserve = reserve[0]/10**token_1_decimals \n",
    "        token_pair_rate = token_0_reserve/token_1_reserve\n",
    "    else:\n",
    "        token_0_reserve = reserve[0]/10**token_0_decimals\n",
    "        token_1_reserve = reserve[1]/10**token_1_decimals\n",
    "        token_pair_rate = token_0_reserve/token_1_reserve\n",
    "\n",
    "    price_chart.append(token_pair_rate)\n",
    "    \n",
    "    clear_output(wait=True)\n",
    "    print(f\"Token 0 ({token_0_symbol}) reserve: {token_0_reserve}\")\n",
    "    print(f\"Token 1 ({token_1_symbol}) reserve: {token_1_reserve}\")\n",
    "\n",
    "    #Raw token rate\n",
    "    print(\"Raw token rate:\")\n",
    "    print(\"1 WETH =\", token_pair_rate, \"Token\")\n",
    "    plt.plot(price_chart)\n",
    "    plt.show()\n",
    "    time.sleep(refresh)"
   ]
  },
  {
   "attachments": {},
   "cell_type": "markdown",
   "metadata": {},
   "source": [
    "### Uniswap Fundamentals"
   ]
  },
  {
   "cell_type": "code",
   "execution_count": 12,
   "metadata": {},
   "outputs": [
    {
     "name": "stdout",
     "output_type": "stream",
     "text": [
      "Sent 200 to swaper\n",
      "Balance0: 1100, Balance1: 1800\n",
      "Amount0In: 100, Amount1In: 0\n",
      "Balance0Adjusted: 1099700, Balance1Adjusted: 1800000\n",
      "Price impact too high\n"
     ]
    },
    {
     "ename": "RuntimeError",
     "evalue": "No active exception to reraise",
     "output_type": "error",
     "traceback": [
      "\u001b[1;31m---------------------------------------------------------------------------\u001b[0m",
      "\u001b[1;31mRuntimeError\u001b[0m                              Traceback (most recent call last)",
      "\u001b[1;32mc:\\Users\\Love\\Documents\\GitHub\\ETH-Script\\uniswap.ipynb Cell 18\u001b[0m in \u001b[0;36m5\n\u001b[0;32m     <a href='vscode-notebook-cell:/c%3A/Users/Love/Documents/GitHub/ETH-Script/uniswap.ipynb#X23sZmlsZQ%3D%3D?line=49'>50</a>\u001b[0m \u001b[39mif\u001b[39;00m balance0Adjusted \u001b[39m*\u001b[39m balance1Adjusted \u001b[39m<\u001b[39m\u001b[39m=\u001b[39m reserve0 \u001b[39m*\u001b[39m reserve1 \u001b[39m*\u001b[39m \u001b[39m1000\u001b[39m \u001b[39m*\u001b[39m\u001b[39m*\u001b[39m \u001b[39m2\u001b[39m:\n\u001b[0;32m     <a href='vscode-notebook-cell:/c%3A/Users/Love/Documents/GitHub/ETH-Script/uniswap.ipynb#X23sZmlsZQ%3D%3D?line=50'>51</a>\u001b[0m     \u001b[39mprint\u001b[39m(\u001b[39m\"\u001b[39m\u001b[39mPrice impact too high\u001b[39m\u001b[39m\"\u001b[39m)\n\u001b[1;32m---> <a href='vscode-notebook-cell:/c%3A/Users/Love/Documents/GitHub/ETH-Script/uniswap.ipynb#X23sZmlsZQ%3D%3D?line=51'>52</a>\u001b[0m     \u001b[39mraise\u001b[39;00m\n",
      "\u001b[1;31mRuntimeError\u001b[0m: No active exception to reraise"
     ]
    }
   ],
   "source": [
    "#Swap function simulator (neglect address to and bytes calldata data)\n",
    "\n",
    "#Assumption\n",
    "reserve0 = 1000   #Token\n",
    "reserve1 = 2000     #WETH\n",
    "\n",
    "amount0Out = 0      #Token\n",
    "amount1Out = 200    #WETH\n",
    "\n",
    "amount0sent = 100   #Token\n",
    "\n",
    "#Call swap fuction\n",
    "if amount0Out == 0 and amount1Out == 0:\n",
    "    print(\"Invalid amount (Zero swap)\")\n",
    "    raise\n",
    "if amount0Out > reserve0 or amount1Out > reserve1:\n",
    "    print(\"Insufficient liquidity\")\n",
    "    raise\n",
    "if amount0Out > 0:\n",
    "    print(f'Sent {amount0Out} to swaper')\n",
    "if amount1Out > 0:\n",
    "    print(f'Sent {amount1Out} to swaper')\n",
    "\n",
    "#After swap checking balance on ERC20 token contract balanceOF(address) function\n",
    "balance0 = reserve0 + amount0sent\n",
    "balance1 = reserve1 - amount1Out\n",
    "print(f\"Balance0: {balance0}, Balance1: {balance1}\")\n",
    "\n",
    "#Calculate the amount of token to be received to the contract\n",
    "if balance0 > reserve0 - amount0Out:\n",
    "    amount0In = balance0 - (reserve0 - amount0Out)\n",
    "else:\n",
    "    amount0In = 0\n",
    "\n",
    "if balance1 > reserve1 - amount1Out:\n",
    "    amount1In = balance1 - (reserve1 - amount1Out)\n",
    "else:\n",
    "    amount1In = 0\n",
    "\n",
    "print(f\"Amount0In: {amount0In}, Amount1In: {amount1In}\")\n",
    "\n",
    "if amount0In <= 0 and amount1In <= 0:\n",
    "    print(\"Not enough input amount\")\n",
    "    raise\n",
    "\n",
    "balance0Adjusted = balance0 * 1000 - amount0In * 3 #fee 0.3%\n",
    "balance1Adjusted = balance1 * 1000 - amount1In * 3 #fee 0.3%\n",
    "print(f\"Balance0Adjusted: {balance0Adjusted}, Balance1Adjusted: {balance1Adjusted}\")\n",
    "\n",
    "if balance0Adjusted * balance1Adjusted <= reserve0 * reserve1 * 1000 ** 2:\n",
    "    print(\"Price impact too high\")\n",
    "    raise"
   ]
  },
  {
   "cell_type": "code",
   "execution_count": 13,
   "metadata": {},
   "outputs": [
    {
     "name": "stdout",
     "output_type": "stream",
     "text": [
      "Max AmountOut: 98.71580343970614\n",
      "Min AmountIn: 101.31712259371835\n"
     ]
    }
   ],
   "source": [
    "#x * y = k\n",
    "#reserveIn * reserveOut = (reserveIn + amountIn) * (reserveOut - amountOut)\n",
    "\n",
    "#Get amount out simuator (Given amountIn calculate max amountOut)\n",
    "reserveIn = 100 #WETH 1 WETH = 100 USDT\n",
    "reserveOut = 10000  #USDT\n",
    "amountIn = 1 #WETH\n",
    "amountIn = amountIn * 997/1000 #fee 0.3%\n",
    "amountOut = amountIn*reserveOut/(reserveIn+amountIn)\n",
    "print(f\"Max AmountOut: {amountOut}\")\n",
    "\n",
    "#Get amount in simuator (Given amountOut calculate min amountIn)\n",
    "reserveIn = 10000 #USDT\n",
    "reserveOut = 100  #WETH 1 WETH = 100 USDT\n",
    "amountOut = 1 #WETH\n",
    "amountOut = amountOut * 1000/997 #fee 0.3%\n",
    "amountIn = amountOut * reserveIn / (reserveOut - amountOut)\n",
    "print(f\"Min AmountIn: {amountIn}\")"
   ]
  },
  {
   "cell_type": "code",
   "execution_count": 14,
   "metadata": {},
   "outputs": [
    {
     "name": "stdout",
     "output_type": "stream",
     "text": [
      "before\n",
      "The LP has 100000 DAI and 1000 WETH\n",
      "price of 1 DAI = 0.01 WETH\n",
      "price of 1 WETH = 100.0 DAI\n",
      "after\n",
      "The LP has 122474.48713915891 DAI and 816.496580927726 WETH\n",
      "price of 1 DAI = 0.006666666666666666 WETH\n",
      "price of 1 WETH = 150.00000000000003 DAI\n",
      "Hold value = 25000 DAI\n",
      "LP share value = 24494.897427831784 DAI\n",
      "Impermanent loss = -505.1025721682163 DAI -2.020410288672865 %\n"
     ]
    }
   ],
   "source": [
    "#constant product formula\n",
    "# x * y = k\n",
    "#Assume initial liquidity of 100000DAI and 1000WETH\n",
    "#Our share is 10000DAI and 100WETH (10%)\n",
    "x = 100000\n",
    "y = 1000\n",
    "k = x * y\n",
    "print(\"before\")\n",
    "print(\"The LP has\", x, \"DAI and\", y, \"WETH\")\n",
    "print(\"price of 1 DAI =\", y/x, \"WETH\")\n",
    "print(\"price of 1 WETH =\", x/y, \"DAI\")\n",
    "\n",
    "#Now assume that the price of ETH increases to 150DAI\n",
    "\n",
    "#find new x and y such that x/y = 150 and x * y = k\n",
    "\n",
    "y = math.sqrt(k / 150)\n",
    "x = math.sqrt(k * 150)\n",
    "print(\"after\")\n",
    "print(\"The LP has\", x, \"DAI and\", y, \"WETH\")\n",
    "print(\"price of 1 DAI =\", y/x, \"WETH\")\n",
    "print(\"price of 1 WETH =\", x/y, \"DAI\")\n",
    "\n",
    "#Find the impermanent loss\n",
    "\n",
    "hold_value = 10000 + 100 * 150\n",
    "print(\"Hold value =\", hold_value, \"DAI\")\n",
    "LP_share_value = x*0.1 + y*0.1*150\n",
    "print(\"LP share value =\", LP_share_value, \"DAI\")\n",
    "impermanent_loss = LP_share_value - hold_value\n",
    "print(\"Impermanent loss =\", impermanent_loss, \"DAI\", impermanent_loss/hold_value*100,\"%\")\n"
   ]
  }
 ],
 "metadata": {
  "kernelspec": {
   "display_name": "trading",
   "language": "python",
   "name": "python3"
  },
  "language_info": {
   "codemirror_mode": {
    "name": "ipython",
    "version": 3
   },
   "file_extension": ".py",
   "mimetype": "text/x-python",
   "name": "python",
   "nbconvert_exporter": "python",
   "pygments_lexer": "ipython3",
   "version": "3.10.11"
  },
  "orig_nbformat": 4
 },
 "nbformat": 4,
 "nbformat_minor": 2
}
