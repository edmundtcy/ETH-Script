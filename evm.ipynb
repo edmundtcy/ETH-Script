{
 "cells": [
  {
   "cell_type": "code",
   "execution_count": 8,
   "metadata": {},
   "outputs": [],
   "source": [
    "from web3 import Web3"
   ]
  },
  {
   "cell_type": "markdown",
   "metadata": {},
   "source": [
    "### Encode Contract ABI"
   ]
  },
  {
   "cell_type": "code",
   "execution_count": 46,
   "metadata": {},
   "outputs": [
    {
     "name": "stdout",
     "output_type": "stream",
     "text": [
      "abi_encoded:  0x2e1a7d4d13322e7b96f9a57413e1525c250fb7a9021cf91d1540d5b69f16a49f\n",
      "abi_method_id:  0x2e1a7d4d\n"
     ]
    }
   ],
   "source": [
    "#function withdraw(uint withdraw_amount) public {}\n",
    "abi_encoded = Web3.keccak(text=\"withdraw(uint256)\")\n",
    "print(\"abi_encoded: \", abi_encoded.hex())\n",
    "\n",
    "#Extract the first 4 bytes of the hash as the method ID\n",
    "abi_method_id = abi_encoded.hex()[0:10]\n",
    "print(\"abi_method_id: \", abi_method_id)"
   ]
  },
  {
   "cell_type": "markdown",
   "metadata": {},
   "source": [
    "### Encode Arguments"
   ]
  },
  {
   "cell_type": "code",
   "execution_count": 49,
   "metadata": {},
   "outputs": [
    {
     "name": "stdout",
     "output_type": "stream",
     "text": [
      "withdraw_amount:  10000000000000000\n",
      "withdraw_amount_hex:  0x2386f26fc10000\n",
      "padding_amount_hex:  0x0000000000000000002386f26fc10000\n",
      "Concatenated:  0x2e1a7d4d0x0000000000000000002386f26fc10000\n"
     ]
    }
   ],
   "source": [
    "#Convert from ETH to Wei.\n",
    "withdraw_amount = Web3.to_wei(0.01, 'ether')\n",
    "print(\"withdraw_amount: \", withdraw_amount)\n",
    "\n",
    "#Convert the withdraw_amount to hex\n",
    "withdraw_amount_hex = Web3.to_hex(withdraw_amount)\n",
    "print(\"withdraw_amount_hex: \", withdraw_amount_hex)\n",
    "\n",
    "#Left Left padding \"output 0x0000000000000000002386f26fc10000\"\n",
    "def pad_hex_string(hex_string, desired_length):\n",
    "    # Remove '0x' prefix\n",
    "    hex_without_prefix = hex_string[2:]\n",
    "    # Pad with zeros to the desired length\n",
    "    padded_hex = hex_without_prefix.zfill(desired_length)\n",
    "    # Add the '0x' prefix back to the padded hex string\n",
    "    return f'0x{padded_hex}'\n",
    "\n",
    "padding_hex = pad_hex_string(withdraw_amount_hex, 32)\n",
    "print(\"padding_amount_hex: \", padding_hex)\n",
    "\n",
    "#Concatenate the method ID and the padded withdraw_amount\n",
    "withdraw_amount_hex = abi_method_id + padding_hex\n",
    "print(\"Concatenated: \", withdraw_amount_hex)"
   ]
  }
 ],
 "metadata": {
  "kernelspec": {
   "display_name": "Python 3",
   "language": "python",
   "name": "python3"
  },
  "language_info": {
   "codemirror_mode": {
    "name": "ipython",
    "version": 3
   },
   "file_extension": ".py",
   "mimetype": "text/x-python",
   "name": "python",
   "nbconvert_exporter": "python",
   "pygments_lexer": "ipython3",
   "version": "3.10.11"
  },
  "orig_nbformat": 4
 },
 "nbformat": 4,
 "nbformat_minor": 2
}
