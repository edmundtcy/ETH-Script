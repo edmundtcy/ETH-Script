{
 "cells": [
  {
   "cell_type": "markdown",
   "metadata": {},
   "source": [
    "### I Don't Wanna pay fucking fees using bot !"
   ]
  },
  {
   "cell_type": "code",
   "execution_count": 51,
   "metadata": {},
   "outputs": [],
   "source": [
    "import json\n",
    "import math\n",
    "import time\n",
    "import pytz\n",
    "import secrets\n",
    "import requests\n",
    "import credentials\n",
    "from web3 import Web3\n",
    "from datetime import datetime\n",
    "from eth_account import Account"
   ]
  },
  {
   "cell_type": "markdown",
   "metadata": {},
   "source": [
    "### Connect to Ethereum"
   ]
  },
  {
   "cell_type": "code",
   "execution_count": 2,
   "metadata": {},
   "outputs": [
    {
     "data": {
      "text/plain": [
       "True"
      ]
     },
     "execution_count": 2,
     "metadata": {},
     "output_type": "execute_result"
    }
   ],
   "source": [
    "INFURA_KEY = credentials.infura_key\n",
    "ETHERSCAN_KEY = credentials.etherscan_key\n",
    "\n",
    "RPC = {\n",
    "    'mainnet': f'https://mainnet.infura.io/v3/{INFURA_KEY}',\n",
    "    'goreli': f'https://goerli.infura.io/v3/{INFURA_KEY}',\n",
    "    'mainnet_ws': f'wss://mainnet.infura.io/ws/v3/{INFURA_KEY}',\n",
    "    'goreli_ws': f'wss://goerli.infura.io/ws/v3/{INFURA_KEY}',\n",
    "    'mainnet_mev': f'https://rpc.mevblocker.io'\n",
    "}\n",
    "\n",
    "# Mainnet MEV protector\n",
    "# provider = RPC['mainnet_mev']\n",
    "# w3 = Web3(Web3.HTTPProvider(provider, request_kwargs={'timeout': 60}))\n",
    "\n",
    "provider = RPC['goreli_ws']\n",
    "w3 = Web3(Web3.WebsocketProvider(provider))\n",
    "w3.is_connected()"
   ]
  },
  {
   "cell_type": "code",
   "execution_count": null,
   "metadata": {},
   "outputs": [],
   "source": [
    "from web3.middleware import geth_poa_middleware, simple_cache_middleware\n",
    "\n",
    "provider = RPC['mainnet_mev']\n",
    "w3 = Web3(Web3.HTTPProvider(provider, request_kwargs={'timeout': 60}))\n",
    "\n",
    "w3.middleware_onion.add(simple_cache_middleware)\n",
    "w3.middleware_onion.add(geth_poa_middleware)\n",
    "\n",
    "# Callback function to handle new blocks\n",
    "def handle_new_block(block_num, max_retries=3, delay=0.1):\n",
    "    retries = 0\n",
    "    while retries < max_retries:\n",
    "        try:\n",
    "            block = w3.eth.get_block(block_num)\n",
    "            print(f\"New Block: {block['number']}\")\n",
    "            return\n",
    "        except:\n",
    "            retries += 1\n",
    "            print(f\"Block not found. Retrying in {delay} seconds...\")\n",
    "            time.sleep(delay)\n",
    "    raise Exception(f\"Failed to retrieve block {event} after {max_retries} attempts.\")\n",
    "\n",
    "latest_block = w3.eth.block_number\n",
    "while True:\n",
    "    current_block = w3.eth.block_number\n",
    "    if current_block > latest_block:\n",
    "        for block_number in range(latest_block + 1, current_block + 1):\n",
    "            handle_new_block(block_number)\n",
    "        latest_block = current_block"
   ]
  },
  {
   "cell_type": "markdown",
   "metadata": {},
   "source": [
    "### Helper functions"
   ]
  },
  {
   "cell_type": "code",
   "execution_count": 3,
   "metadata": {},
   "outputs": [],
   "source": [
    "def get_abi(contract_address, chain_id=1):\n",
    "    #Get Contract ABI with Etherscan API\n",
    "    api_key = ETHERSCAN_KEY\n",
    "    if chain_id == 1:\n",
    "        url = 'https://api.etherscan.io/api'\n",
    "    elif chain_id == 5:\n",
    "        url = 'https://api-goerli.etherscan.io/api'\n",
    "    params = {\n",
    "        'module': 'contract',\n",
    "        'action': 'getabi',\n",
    "        'address': contract_address,\n",
    "        'apikey': api_key\n",
    "    }\n",
    "    response = requests.get(url, params=params)\n",
    "    data = response.json()\n",
    "    if data['status'] != '1':\n",
    "        print(\"Error: \", data['message'])\n",
    "        return None\n",
    "    else:\n",
    "        abi = data['result']\n",
    "        return abi"
   ]
  },
  {
   "cell_type": "markdown",
   "metadata": {},
   "source": [
    "### Create account for signing transactions"
   ]
  },
  {
   "cell_type": "code",
   "execution_count": 7,
   "metadata": {},
   "outputs": [
    {
     "name": "stdout",
     "output_type": "stream",
     "text": [
      "0x6B12B690Fc279958715C29AD65CCCB33900f0F0B\n",
      "4.119310906115370405\n"
     ]
    }
   ],
   "source": [
    "account = Account.from_key(credentials.private_key)\n",
    "print(account.address)\n",
    "print(w3.from_wei(w3.eth.get_balance(account.address), 'ether'))"
   ]
  },
  {
   "cell_type": "markdown",
   "metadata": {},
   "source": [
    "### Simple Test"
   ]
  },
  {
   "cell_type": "code",
   "execution_count": 5,
   "metadata": {},
   "outputs": [
    {
     "data": {
      "text/plain": [
       "AttributeDict({'blockHash': HexBytes('0xdf4fe7f96f593cb6394c422d91ca2e166bc3e17d07f82d8202ebd6e6e0f06b50'),\n",
       " 'blockNumber': 9618858,\n",
       " 'contractAddress': None,\n",
       " 'cumulativeGasUsed': 1215350,\n",
       " 'effectiveGasPrice': 1500000009,\n",
       " 'from': '0x6B12B690Fc279958715C29AD65CCCB33900f0F0B',\n",
       " 'gasUsed': 21000,\n",
       " 'logs': [],\n",
       " 'logsBloom': HexBytes('0x00000000000000000000000000000000000000000000000000000000000000000000000000000000000000000000000000000000000000000000000000000000000000000000000000000000000000000000000000000000000000000000000000000000000000000000000000000000000000000000000000000000000000000000000000000000000000000000000000000000000000000000000000000000000000000000000000000000000000000000000000000000000000000000000000000000000000000000000000000000000000000000000000000000000000000000000000000000000000000000000000000000000000000000000000000000'),\n",
       " 'status': 1,\n",
       " 'to': '0x6B12B690Fc279958715C29AD65CCCB33900f0F0B',\n",
       " 'transactionHash': HexBytes('0x54cf577d3a869a6419b492229ff7dc07ae10d87d7db291068ad9cf5ec84f9efd'),\n",
       " 'transactionIndex': 11,\n",
       " 'type': 2})"
      ]
     },
     "execution_count": 5,
     "metadata": {},
     "output_type": "execute_result"
    }
   ],
   "source": [
    "transaction = {\n",
    "    'from': account.address,\n",
    "    'to': account.address,\n",
    "    'value': 50000000000000000,\n",
    "    'nonce': w3.eth.get_transaction_count(account.address),\n",
    "    'gas': 21000,\n",
    "    'maxFeePerGas': 2000000000,\n",
    "    'maxPriorityFeePerGas': 1500000000,\n",
    "    'chainId': 5,\n",
    "}\n",
    "signed = w3.eth.account.sign_transaction(transaction, credentials.private_key)\n",
    "tx_hash = w3.eth.send_raw_transaction(signed.rawTransaction)\n",
    "tx = w3.eth.wait_for_transaction_receipt(tx_hash)\n",
    "tx"
   ]
  },
  {
   "cell_type": "markdown",
   "metadata": {},
   "source": [
    "### Interact with Uniswap V2 Router"
   ]
  },
  {
   "cell_type": "code",
   "execution_count": 32,
   "metadata": {},
   "outputs": [],
   "source": [
    "UNISWAP_V2_FACTORY = Web3.to_checksum_address(\"0x5C69bEe701ef814a2B6a3EDD4B1652CB9cc5aA6f\")\n",
    "UNISWAP_V2_ROUTER = Web3.to_checksum_address(\"0x7a250d5630B4cF539739dF2C5dAcb4c659F2488D\")\n",
    "\n",
    "UNISWAP_V2_FACTORY_ABI = get_abi(UNISWAP_V2_FACTORY, chain_id=5)\n",
    "UNISWAP_V2_ROUTER_ABI = get_abi(UNISWAP_V2_ROUTER, chain_id=5)"
   ]
  },
  {
   "cell_type": "code",
   "execution_count": 37,
   "metadata": {},
   "outputs": [
    {
     "data": {
      "text/plain": [
       "'\\nBuy Token:\\nswapExactETHForTokensSupportingFeeOnTransferTokens(uint256,address[],address,uint256)\\n\\nSell Token:\\nswapExactTokensForETHSupportingFeeOnTransferTokens(uint256,uint256,address[],address,uint256)\\n\\nRotate Token:\\nswapExactTokensForTokensSupportingFeeOnTransferTokens(uint256,uint256,address[],address,uint256)\\n'"
      ]
     },
     "execution_count": 37,
     "metadata": {},
     "output_type": "execute_result"
    }
   ],
   "source": [
    "UNISWAP_V2_FACTORY_CONTRACT = w3.eth.contract(address=UNISWAP_V2_FACTORY, abi=UNISWAP_V2_FACTORY_ABI)\n",
    "UNISWAP_V2_ROUTER_CONTRACT = w3.eth.contract(address=UNISWAP_V2_ROUTER, abi=UNISWAP_V2_ROUTER_ABI)\n",
    "# WETH = Web3.to_checksum_address(\"0xC02aaA39b223FE8D0A0e5C4F27eAD9083C756Cc2\") #mainnet WETH address\n",
    "WETH = Web3.to_checksum_address(UNISWAP_V2_ROUTER_CONTRACT.functions.WETH().call())\n",
    "UNI = Web3.to_checksum_address(\"0x1f9840a85d5aF5bf1D1762F925BDADdC4201F984\")\n",
    "METH = Web3.to_checksum_address(\"0xdd69db25f6d620a7bad3023c5d32761d353d3de9\")\n",
    "\n",
    "WETH_abi = get_abi(WETH, chain_id=5)\n",
    "WETH_contract = w3.eth.contract(address=WETH, abi=WETH_abi)\n",
    "WETH_decimals = WETH_contract.functions.decimals().call()\n",
    "WETH_symbol = WETH_contract.functions.symbol().call()\n",
    "\n",
    "UNI_abi = get_abi(UNI, chain_id=5)\n",
    "UNI_contract = w3.eth.contract(address=UNI, abi=UNI_abi)\n",
    "UNI_decimals = UNI_contract.functions.decimals().call()\n",
    "UNI_symbol = UNI_contract.functions.symbol().call()\n",
    "\n",
    "METH_abi = get_abi(METH, chain_id=5)\n",
    "METH_contract = w3.eth.contract(address=METH, abi=METH_abi)\n",
    "METH_decimals = METH_contract.functions.decimals().call()\n",
    "METH_symbol = METH_contract.functions.symbol().call()\n",
    "\n",
    "'''\n",
    "Buy Token:\n",
    "swapExactETHForTokensSupportingFeeOnTransferTokens(uint256,address[],address,uint256)\n",
    "\n",
    "Sell Token:\n",
    "swapExactTokensForETHSupportingFeeOnTransferTokens(uint256,uint256,address[],address,uint256)\n",
    "\n",
    "Rotate Token:\n",
    "swapExactTokensForTokensSupportingFeeOnTransferTokens(uint256,uint256,address[],address,uint256)\n",
    "'''"
   ]
  },
  {
   "cell_type": "code",
   "execution_count": 39,
   "metadata": {},
   "outputs": [
    {
     "name": "stdout",
     "output_type": "stream",
     "text": [
      "Transaction successful\n",
      "Token already approved\n"
     ]
    }
   ],
   "source": [
    "# Build and sign a transaction to buy token:\n",
    "buy_tx = UNISWAP_V2_ROUTER_CONTRACT.functions.swapExactETHForTokensSupportingFeeOnTransferTokens(\n",
    "    w3.to_wei(0.000006, 'ether'),    # amountOutMin\n",
    "    [WETH, METH],                # path (path 0 needs to be WETH)\n",
    "    account.address,            # to\n",
    "    int(time.time()) + 60       # deadline (current + 60s)\n",
    ").build_transaction({\n",
    "    \"from\": account.address,\n",
    "    \"nonce\": w3.eth.get_transaction_count(account.address),\n",
    "    \"value\": w3.to_wei(0.1, 'ether'),\n",
    "    \"gas\": 300000,\n",
    "    \"maxFeePerGas\": 2000000000,\n",
    "    \"maxPriorityFeePerGas\": 1500000000,\n",
    "})\n",
    "\n",
    "signed_buy_tx = w3.eth.account.sign_transaction(buy_tx, private_key=credentials.private_key)\n",
    "\n",
    "# Send the raw transaction:\n",
    "tx_hash = w3.eth.send_raw_transaction(signed_buy_tx.rawTransaction)\n",
    "tx = w3.eth.wait_for_transaction_receipt(tx_hash)\n",
    "\n",
    "if tx.status == 1:\n",
    "    max_uint96 = (2 ** 96) - 1\n",
    "    max_uint256 = (2 ** 256) - 1\n",
    "    print(\"Transaction successful\")\n",
    "    #Auto Approve Token for selling\n",
    "    approve_tx = METH_contract.functions.approve(UNISWAP_V2_ROUTER, max_uint256).build_transaction({\n",
    "        \"from\": account.address,\n",
    "        \"nonce\": w3.eth.get_transaction_count(account.address),\n",
    "        \"gas\": 60000,\n",
    "        \"maxFeePerGas\": 2000000000, \n",
    "        \"maxPriorityFeePerGas\": 1500000000,\n",
    "    })\n",
    "    #Auto Approve Token for selling if not approved\n",
    "    allowance = METH_contract.functions.allowance(account.address, UNISWAP_V2_ROUTER).call()\n",
    "    if allowance != max_uint256 or allowance != max_uint96:\n",
    "        signed_approve_tx = w3.eth.account.sign_transaction(approve_tx, private_key=credentials.private_key)\n",
    "        tx_hash = w3.eth.send_raw_transaction(signed_approve_tx.rawTransaction)\n",
    "        tx = w3.eth.wait_for_transaction_receipt(tx_hash)\n",
    "        print(\"Token approved\")\n",
    "    else:\n",
    "        print(\"Token already approved\")"
   ]
  },
  {
   "cell_type": "code",
   "execution_count": 44,
   "metadata": {},
   "outputs": [
    {
     "name": "stdout",
     "output_type": "stream",
     "text": [
      "Transaction successful\n"
     ]
    }
   ],
   "source": [
    "# Build and sign a transaction to sell token:\n",
    "sell_tx = UNISWAP_V2_ROUTER_CONTRACT.functions.swapExactTokensForETHSupportingFeeOnTransferTokens(\n",
    "    # w3.to_wei(0.000012, 'ether'),   # amountIn (amount of UNI to sell)\n",
    "    METH_contract.functions.balanceOf(account.address).call(), # amountIn (sell all token in wallet)\n",
    "    w3.to_wei(0.18, 'ether'),  # amountOutMin (Minimum amount of ETH to receive)\n",
    "    [METH, WETH],                # path (path 1 needs to be WETH)\n",
    "    account.address,            # to\n",
    "    int(time.time()) + 60       # deadline (current + 60s)\n",
    ").build_transaction({\n",
    "    \"from\": account.address,\n",
    "    \"nonce\": w3.eth.get_transaction_count(account.address),\n",
    "    \"gas\": 300000,\n",
    "    \"maxFeePerGas\": 2000000000,\n",
    "    \"maxPriorityFeePerGas\": 1500000000,\n",
    "})\n",
    "\n",
    "signed_sell_tx = w3.eth.account.sign_transaction(sell_tx, private_key=credentials.private_key)\n",
    "tx_hash = w3.eth.send_raw_transaction(signed_sell_tx.rawTransaction)\n",
    "tx = w3.eth.wait_for_transaction_receipt(tx_hash)\n",
    "if tx.status == 1:\n",
    "    print(\"Transaction successful\")"
   ]
  },
  {
   "cell_type": "markdown",
   "metadata": {},
   "source": [
    "### Price and Slipperage"
   ]
  },
  {
   "cell_type": "code",
   "execution_count": 13,
   "metadata": {},
   "outputs": [],
   "source": [
    "'''\n",
    "Given token address\n",
    "Find token Pair\n",
    "Get token price in WETH\n",
    "'''\n",
    "#Get token price in WETH\n",
    "pair_address = UNISWAP_V2_FACTORY_CONTRACT.functions.getPair(UNI, WETH).call()\n",
    "if w3.to_int(hexstr=pair_address) == 0:\n",
    "    print(\"Pair not found\")\n",
    "    raise\n",
    "\n",
    "pair_abi = get_abi(pair_address , chain_id=5)\n",
    "pair_contract = w3.eth.contract(address=pair_address, abi=pair_abi)"
   ]
  },
  {
   "cell_type": "code",
   "execution_count": 14,
   "metadata": {},
   "outputs": [
    {
     "name": "stdout",
     "output_type": "stream",
     "text": [
      "Current Block number: 9618907\n",
      "1\n",
      "Token 0 (UNI) reserve: 113538.69437312728\n",
      "Token 1 (WETH) reserve: 5414.667924987667\n",
      "Block timestamp last: 1693581036\n",
      "\n",
      "Raw token price: 1 WETH = 20.96872715853316 UNI\n",
      "Raw token price: 1 UNI = 0.04769006685239133 WETH\n",
      "True token price: Max amount UNI (out) given 1 WETH in: 20.901972307724645\n",
      "True token price: Min amount UNI (in) given 1 WETH out: 21.035719267279116\n"
     ]
    }
   ],
   "source": [
    "print(f'Current Block number: {w3.eth.block_number}')\n",
    "reserve = pair_contract.functions.getReserves().call()\n",
    "\n",
    "#Caculate token pair rate (Token 1 is WETH)\n",
    "if UNI < WETH:\n",
    "    print(\"1\")\n",
    "    token_0_reserve = reserve[0]/10**UNI_decimals\n",
    "    token_1_reserve = reserve[1]/10**WETH_decimals\n",
    "else:\n",
    "    print(\"2\")\n",
    "    token_0_reserve = reserve[1]/10**UNI_decimals\n",
    "    token_1_reserve = reserve[0]/10**WETH_decimals\n",
    "    \n",
    "token_pair_rate = token_0_reserve/token_1_reserve\n",
    "\n",
    "print(f\"Token 0 ({UNI_symbol}) reserve: {token_0_reserve}\")\n",
    "print(f\"Token 1 ({WETH_symbol}) reserve: {token_1_reserve}\")\n",
    "print(f\"Block timestamp last: {reserve[2]}\\n\")\n",
    "\n",
    "#Raw token rate\n",
    "print(f\"Raw token price: 1 {WETH_symbol} = {token_pair_rate} {UNI_symbol}\")\n",
    "print(f\"Raw token price: 1 {UNI_symbol} = {1/token_pair_rate} {WETH_symbol}\")\n",
    "\n",
    "#AmountIn rate (Buy price)\n",
    "if WETH < UNI:\n",
    "    reserveOut = reserve[1]/10**UNI_decimals\n",
    "    reserveIn = reserve[0]/10**WETH_decimals #Base token\n",
    "else:\n",
    "    reserveOut = reserve[0]/10**UNI_decimals\n",
    "    reserveIn = reserve[1]/10**WETH_decimals #Base token\n",
    "\n",
    "amountIn = 1 #1 WETH\n",
    "amountIn = amountIn * 997/1000 #fee 0.3%\n",
    "amountOut = amountIn * reserveOut/(reserveIn+amountIn)\n",
    "print(f\"True token price: Max amount {UNI_symbol} (out) given 1 {WETH_symbol} in: {amountOut}\")\n",
    "\n",
    "#AmountOut rate (Sell price)\n",
    "if WETH < UNI:\n",
    "    reserveIn = reserve[1]/10**UNI_decimals\n",
    "    reserveOut = reserve[0]/10**WETH_decimals #Base token\n",
    "else:\n",
    "    reserveIn = reserve[0]/10**UNI_decimals\n",
    "    reserveOut = reserve[1]/10**WETH_decimals #Base token\n",
    "\n",
    "amountOut = 1 #1 WETH\n",
    "amountOut = amountOut * 1000/997 #fee 0.3%\n",
    "amountIn = amountOut * reserveIn / (reserveOut - amountOut)\n",
    "print(f\"True token price: Min amount {UNI_symbol} (in) given 1 {WETH_symbol} out: {amountIn}\")"
   ]
  }
 ],
 "metadata": {
  "kernelspec": {
   "display_name": "Python 3",
   "language": "python",
   "name": "python3"
  },
  "language_info": {
   "codemirror_mode": {
    "name": "ipython",
    "version": 3
   },
   "file_extension": ".py",
   "mimetype": "text/x-python",
   "name": "python",
   "nbconvert_exporter": "python",
   "pygments_lexer": "ipython3",
   "version": "3.10.11"
  },
  "orig_nbformat": 4
 },
 "nbformat": 4,
 "nbformat_minor": 2
}
