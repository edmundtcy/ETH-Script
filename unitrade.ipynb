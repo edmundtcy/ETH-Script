{
 "cells": [
  {
   "cell_type": "markdown",
   "metadata": {},
   "source": [
    "### I Don't Wanna pay fucking fees using bot !"
   ]
  },
  {
   "cell_type": "code",
   "execution_count": 2,
   "metadata": {},
   "outputs": [],
   "source": [
    "import json\n",
    "import math\n",
    "import time\n",
    "import pytz\n",
    "import secrets\n",
    "import requests\n",
    "import credentials\n",
    "from web3 import Web3\n",
    "from datetime import datetime\n",
    "from eth_account import Account"
   ]
  },
  {
   "cell_type": "markdown",
   "metadata": {},
   "source": [
    "### Helper functions"
   ]
  },
  {
   "cell_type": "code",
   "execution_count": 3,
   "metadata": {},
   "outputs": [],
   "source": [
    "def get_abi(contract_address):\n",
    "    #Get Contract ABI with Etherscan API\n",
    "    api_key = ETHERSCAN_KEY\n",
    "    url = 'https://api.etherscan.io/api'\n",
    "    params = {\n",
    "        'module': 'contract',\n",
    "        'action': 'getabi',\n",
    "        'address': contract_address,\n",
    "        'apikey': api_key\n",
    "    }\n",
    "    response = requests.get(url, params=params)\n",
    "    data = response.json()\n",
    "    if data['status'] != '1':\n",
    "        print(\"Error: \", data['message'])\n",
    "        return None\n",
    "    else:\n",
    "        abi = data['result']\n",
    "        return abi"
   ]
  },
  {
   "cell_type": "markdown",
   "metadata": {},
   "source": [
    "### Connect to Ethereum"
   ]
  },
  {
   "cell_type": "code",
   "execution_count": 8,
   "metadata": {},
   "outputs": [
    {
     "data": {
      "text/plain": [
       "True"
      ]
     },
     "execution_count": 8,
     "metadata": {},
     "output_type": "execute_result"
    }
   ],
   "source": [
    "INFURA_KEY = credentials.infura_key\n",
    "ETHERSCAN_KEY = credentials.etherscan_key\n",
    "\n",
    "RPC = {\n",
    "    'mainnet': f'https://mainnet.infura.io/v3/{INFURA_KEY}',\n",
    "    'goreli': f'https://goerli.infura.io/v3/{INFURA_KEY}',\n",
    "    'mainnet_ws': f'wss://mainnet.infura.io/ws/v3/{INFURA_KEY}',\n",
    "    'goreli_ws': f'wss://goerli.infura.io/ws/v3/{INFURA_KEY}',\n",
    "}\n",
    "\n",
    "provider = RPC['goreli_ws']\n",
    "w3 = Web3(Web3.WebsocketProvider(provider))\n",
    "w3.is_connected()"
   ]
  },
  {
   "cell_type": "markdown",
   "metadata": {},
   "source": [
    "### Create account for signing transactions"
   ]
  },
  {
   "cell_type": "code",
   "execution_count": 5,
   "metadata": {},
   "outputs": [
    {
     "data": {
      "text/plain": [
       "'0x6B12B690Fc279958715C29AD65CCCB33900f0F0B'"
      ]
     },
     "execution_count": 5,
     "metadata": {},
     "output_type": "execute_result"
    }
   ],
   "source": [
    "account = Account.from_key(credentials.private_key)\n",
    "account.address"
   ]
  },
  {
   "cell_type": "markdown",
   "metadata": {},
   "source": [
    "### Simple Test"
   ]
  },
  {
   "cell_type": "code",
   "execution_count": 14,
   "metadata": {},
   "outputs": [],
   "source": [
    "w3.eth.get_transaction_count(account.address)\n",
    "transaction = {\n",
    "    'from': account.address,\n",
    "    'to': '',\n",
    "    'value': 500000000000000000,\n",
    "    'nonce': w3.eth.get_transaction_count(account.address),\n",
    "    'gas': 21000,\n",
    "    'maxFeePerGas': 2000000000,\n",
    "    'maxPriorityFeePerGas': 1500000000,\n",
    "    'chainId': 5,\n",
    "}\n",
    "signed = w3.eth.account.sign_transaction(transaction, credentials.private_key)\n",
    "tx_hash = w3.eth.send_raw_transaction(signed.rawTransaction)\n",
    "tx = w3.eth.get_transaction(tx_hash)"
   ]
  },
  {
   "cell_type": "code",
   "execution_count": 24,
   "metadata": {},
   "outputs": [
    {
     "data": {
      "text/plain": [
       "AttributeDict({'accessList': [],\n",
       " 'blockHash': None,\n",
       " 'blockNumber': None,\n",
       " 'chainId': 5,\n",
       " 'from': '0x6B12B690Fc279958715C29AD65CCCB33900f0F0B',\n",
       " 'gas': 200000,\n",
       " 'gasPrice': 2000000000,\n",
       " 'hash': HexBytes('0x38ac73a00429517d1b5eee9015737ac4e6f14f7d5d47f0f46c6fcbdae1decef8'),\n",
       " 'input': '0x',\n",
       " 'maxFeePerGas': 2000000000,\n",
       " 'maxPriorityFeePerGas': 1000000000,\n",
       " 'nonce': 429,\n",
       " 'r': HexBytes('0x8a85ca5e60c434a26b9869e770cbeaca7ba7bd7fe57ab074dbd7a807b73041fe'),\n",
       " 's': HexBytes('0x26ca04617e7c6d9555b02f66193ac17bda3449a6dbb18b26b1125d254bc8ea81'),\n",
       " 'to': '0xD2C6259b5cAf917F510FccB5Bd83c9E78F423098',\n",
       " 'transactionIndex': None,\n",
       " 'type': 2,\n",
       " 'v': 0,\n",
       " 'value': 500000000000000000,\n",
       " 'yParity': '0x0'})"
      ]
     },
     "execution_count": 24,
     "metadata": {},
     "output_type": "execute_result"
    }
   ],
   "source": [
    "tx"
   ]
  },
  {
   "cell_type": "markdown",
   "metadata": {},
   "source": [
    "### Interact with Uniswap V2 Router"
   ]
  },
  {
   "cell_type": "code",
   "execution_count": 5,
   "metadata": {},
   "outputs": [],
   "source": [
    "UNISWAP_V2_FACTORY = Web3.to_checksum_address(\"0x5C69bEe701ef814a2B6a3EDD4B1652CB9cc5aA6f\")\n",
    "UNISWAP_V2_ROUTER = Web3.to_checksum_address(\"0x7a250d5630B4cF539739dF2C5dAcb4c659F2488D\")\n",
    "\n",
    "UNISWAP_V2_FACTORY_ABI = get_abi(UNISWAP_V2_FACTORY)\n",
    "UNISWAP_V2_ROUTER_ABI = get_abi(UNISWAP_V2_ROUTER)"
   ]
  },
  {
   "cell_type": "code",
   "execution_count": 18,
   "metadata": {},
   "outputs": [
    {
     "data": {
      "text/plain": [
       "[<Function WETH()>,\n",
       " <Function addLiquidity(address,address,uint256,uint256,uint256,uint256,address,uint256)>,\n",
       " <Function addLiquidityETH(address,uint256,uint256,uint256,address,uint256)>,\n",
       " <Function factory()>,\n",
       " <Function getAmountIn(uint256,uint256,uint256)>,\n",
       " <Function getAmountOut(uint256,uint256,uint256)>,\n",
       " <Function getAmountsIn(uint256,address[])>,\n",
       " <Function getAmountsOut(uint256,address[])>,\n",
       " <Function quote(uint256,uint256,uint256)>,\n",
       " <Function removeLiquidity(address,address,uint256,uint256,uint256,address,uint256)>,\n",
       " <Function removeLiquidityETH(address,uint256,uint256,uint256,address,uint256)>,\n",
       " <Function removeLiquidityETHSupportingFeeOnTransferTokens(address,uint256,uint256,uint256,address,uint256)>,\n",
       " <Function removeLiquidityETHWithPermit(address,uint256,uint256,uint256,address,uint256,bool,uint8,bytes32,bytes32)>,\n",
       " <Function removeLiquidityETHWithPermitSupportingFeeOnTransferTokens(address,uint256,uint256,uint256,address,uint256,bool,uint8,bytes32,bytes32)>,\n",
       " <Function removeLiquidityWithPermit(address,address,uint256,uint256,uint256,address,uint256,bool,uint8,bytes32,bytes32)>,\n",
       " <Function swapETHForExactTokens(uint256,address[],address,uint256)>,\n",
       " <Function swapExactETHForTokens(uint256,address[],address,uint256)>,\n",
       " <Function swapExactETHForTokensSupportingFeeOnTransferTokens(uint256,address[],address,uint256)>,\n",
       " <Function swapExactTokensForETH(uint256,uint256,address[],address,uint256)>,\n",
       " <Function swapExactTokensForETHSupportingFeeOnTransferTokens(uint256,uint256,address[],address,uint256)>,\n",
       " <Function swapExactTokensForTokens(uint256,uint256,address[],address,uint256)>,\n",
       " <Function swapExactTokensForTokensSupportingFeeOnTransferTokens(uint256,uint256,address[],address,uint256)>,\n",
       " <Function swapTokensForExactETH(uint256,uint256,address[],address,uint256)>,\n",
       " <Function swapTokensForExactTokens(uint256,uint256,address[],address,uint256)>]"
      ]
     },
     "execution_count": 18,
     "metadata": {},
     "output_type": "execute_result"
    }
   ],
   "source": [
    "UNISWAP_V2_FACTORY_CONTRACT = w3.eth.contract(address=UNISWAP_V2_FACTORY, abi=UNISWAP_V2_FACTORY_ABI)\n",
    "UNISWAP_V2_ROUTER_CONTRACT = w3.eth.contract(address=UNISWAP_V2_ROUTER, abi=UNISWAP_V2_ROUTER_ABI)\n",
    "WETH = Web3.to_checksum_address(\"0xC02aaA39b223FE8D0A0e5C4F27eAD9083C756Cc2\")\n",
    "PEPE = Web3.to_checksum_address(\"0x6982508145454Ce325dDbE47a25d4ec3d2311933\")\n",
    "\n",
    "UNISWAP_V2_ROUTER_CONTRACT.all_functions()\n",
    "\n",
    "'''\n",
    "Buy Token:\n",
    "swapExactETHForTokensSupportingFeeOnTransferTokens(uint256,address[],address,uint256)\n",
    "\n",
    "Sell Token:\n",
    "swapExactTokensForETHSupportingFeeOnTransferTokens(uint256,uint256,address[],address,uint256)\n",
    "\n",
    "Rotate Token:\n",
    "swapExactTokensForTokensSupportingFeeOnTransferTokens(uint256,uint256,address[],address,uint256)\n",
    "'''\n"
   ]
  }
 ],
 "metadata": {
  "kernelspec": {
   "display_name": "Python 3",
   "language": "python",
   "name": "python3"
  },
  "language_info": {
   "codemirror_mode": {
    "name": "ipython",
    "version": 3
   },
   "file_extension": ".py",
   "mimetype": "text/x-python",
   "name": "python",
   "nbconvert_exporter": "python",
   "pygments_lexer": "ipython3",
   "version": "3.10.11"
  },
  "orig_nbformat": 4
 },
 "nbformat": 4,
 "nbformat_minor": 2
}
