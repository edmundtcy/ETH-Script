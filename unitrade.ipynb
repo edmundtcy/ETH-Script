{
 "cells": [
  {
   "cell_type": "markdown",
   "metadata": {},
   "source": [
    "### I Don't Wanna pay fucking fees using bot !"
   ]
  },
  {
   "cell_type": "code",
   "execution_count": 1,
   "metadata": {},
   "outputs": [],
   "source": [
    "import json\n",
    "import math\n",
    "import time\n",
    "import pytz\n",
    "import secrets\n",
    "import requests\n",
    "import credentials\n",
    "from web3 import Web3\n",
    "from datetime import datetime\n",
    "from eth_account import Account"
   ]
  },
  {
   "cell_type": "markdown",
   "metadata": {},
   "source": [
    "### Connect to Ethereum"
   ]
  },
  {
   "cell_type": "code",
   "execution_count": 2,
   "metadata": {},
   "outputs": [
    {
     "data": {
      "text/plain": [
       "True"
      ]
     },
     "execution_count": 2,
     "metadata": {},
     "output_type": "execute_result"
    }
   ],
   "source": [
    "INFURA_KEY = credentials.infura_key\n",
    "ETHERSCAN_KEY = credentials.etherscan_key\n",
    "\n",
    "RPC = {\n",
    "    'mainnet': f'https://mainnet.infura.io/v3/{INFURA_KEY}',\n",
    "    'goreli': f'https://goerli.infura.io/v3/{INFURA_KEY}',\n",
    "    'mainnet_ws': f'wss://mainnet.infura.io/ws/v3/{INFURA_KEY}',\n",
    "    'goreli_ws': f'wss://goerli.infura.io/ws/v3/{INFURA_KEY}',\n",
    "}\n",
    "\n",
    "provider = RPC['goreli_ws']\n",
    "w3 = Web3(Web3.WebsocketProvider(provider))\n",
    "w3.is_connected()"
   ]
  },
  {
   "cell_type": "markdown",
   "metadata": {},
   "source": [
    "### Helper functions"
   ]
  },
  {
   "cell_type": "code",
   "execution_count": 3,
   "metadata": {},
   "outputs": [],
   "source": [
    "def get_abi(contract_address, chain_id=1):\n",
    "    #Get Contract ABI with Etherscan API\n",
    "    api_key = ETHERSCAN_KEY\n",
    "    if chain_id == 1:\n",
    "        url = 'https://api.etherscan.io/api'\n",
    "    elif chain_id == 5:\n",
    "        url = 'https://api-goerli.etherscan.io/api'\n",
    "    params = {\n",
    "        'module': 'contract',\n",
    "        'action': 'getabi',\n",
    "        'address': contract_address,\n",
    "        'apikey': api_key\n",
    "    }\n",
    "    response = requests.get(url, params=params)\n",
    "    data = response.json()\n",
    "    if data['status'] != '1':\n",
    "        print(\"Error: \", data['message'])\n",
    "        return None\n",
    "    else:\n",
    "        abi = data['result']\n",
    "        return abi"
   ]
  },
  {
   "cell_type": "markdown",
   "metadata": {},
   "source": [
    "### Create account for signing transactions"
   ]
  },
  {
   "cell_type": "code",
   "execution_count": 4,
   "metadata": {},
   "outputs": [
    {
     "name": "stdout",
     "output_type": "stream",
     "text": [
      "0x6B12B690Fc279958715C29AD65CCCB33900f0F0B\n",
      "4.109626385434360913\n"
     ]
    }
   ],
   "source": [
    "account = Account.from_key(credentials.private_key)\n",
    "print(account.address)\n",
    "print(w3.from_wei(w3.eth.get_balance(account.address), 'ether'))"
   ]
  },
  {
   "cell_type": "markdown",
   "metadata": {},
   "source": [
    "### Simple Test"
   ]
  },
  {
   "cell_type": "code",
   "execution_count": 72,
   "metadata": {},
   "outputs": [],
   "source": [
    "w3.eth.get_transaction_count(account.address)\n",
    "transaction = {\n",
    "    'from': account.address,\n",
    "    'to': account.address,\n",
    "    'value': 50000000000000000,\n",
    "    'nonce': w3.eth.get_transaction_count(account.address),\n",
    "    'gas': 21000,\n",
    "    'maxFeePerGas': 2000000000,\n",
    "    'maxPriorityFeePerGas': 1500000000,\n",
    "    'chainId': 5,\n",
    "}\n",
    "signed = w3.eth.account.sign_transaction(transaction, credentials.private_key)\n",
    "tx_hash = w3.eth.send_raw_transaction(signed.rawTransaction)\n",
    "tx = w3.eth.wait_for_transaction_receipt(tx_hash)\n",
    "tx"
   ]
  },
  {
   "cell_type": "markdown",
   "metadata": {},
   "source": [
    "### Interact with Uniswap V2 Router"
   ]
  },
  {
   "cell_type": "code",
   "execution_count": 5,
   "metadata": {},
   "outputs": [],
   "source": [
    "UNISWAP_V2_FACTORY = Web3.to_checksum_address(\"0x5C69bEe701ef814a2B6a3EDD4B1652CB9cc5aA6f\")\n",
    "UNISWAP_V2_ROUTER = Web3.to_checksum_address(\"0x7a250d5630B4cF539739dF2C5dAcb4c659F2488D\")\n",
    "\n",
    "UNISWAP_V2_FACTORY_ABI = get_abi(UNISWAP_V2_FACTORY, chain_id=5)\n",
    "UNISWAP_V2_ROUTER_ABI = get_abi(UNISWAP_V2_ROUTER, chain_id=5)"
   ]
  },
  {
   "cell_type": "code",
   "execution_count": 6,
   "metadata": {},
   "outputs": [
    {
     "data": {
      "text/plain": [
       "[<Function WETH()>,\n",
       " <Function addLiquidity(address,address,uint256,uint256,uint256,uint256,address,uint256)>,\n",
       " <Function addLiquidityETH(address,uint256,uint256,uint256,address,uint256)>,\n",
       " <Function factory()>,\n",
       " <Function getAmountIn(uint256,uint256,uint256)>,\n",
       " <Function getAmountOut(uint256,uint256,uint256)>,\n",
       " <Function getAmountsIn(uint256,address[])>,\n",
       " <Function getAmountsOut(uint256,address[])>,\n",
       " <Function quote(uint256,uint256,uint256)>,\n",
       " <Function removeLiquidity(address,address,uint256,uint256,uint256,address,uint256)>,\n",
       " <Function removeLiquidityETH(address,uint256,uint256,uint256,address,uint256)>,\n",
       " <Function removeLiquidityETHSupportingFeeOnTransferTokens(address,uint256,uint256,uint256,address,uint256)>,\n",
       " <Function removeLiquidityETHWithPermit(address,uint256,uint256,uint256,address,uint256,bool,uint8,bytes32,bytes32)>,\n",
       " <Function removeLiquidityETHWithPermitSupportingFeeOnTransferTokens(address,uint256,uint256,uint256,address,uint256,bool,uint8,bytes32,bytes32)>,\n",
       " <Function removeLiquidityWithPermit(address,address,uint256,uint256,uint256,address,uint256,bool,uint8,bytes32,bytes32)>,\n",
       " <Function swapETHForExactTokens(uint256,address[],address,uint256)>,\n",
       " <Function swapExactETHForTokens(uint256,address[],address,uint256)>,\n",
       " <Function swapExactETHForTokensSupportingFeeOnTransferTokens(uint256,address[],address,uint256)>,\n",
       " <Function swapExactTokensForETH(uint256,uint256,address[],address,uint256)>,\n",
       " <Function swapExactTokensForETHSupportingFeeOnTransferTokens(uint256,uint256,address[],address,uint256)>,\n",
       " <Function swapExactTokensForTokens(uint256,uint256,address[],address,uint256)>,\n",
       " <Function swapExactTokensForTokensSupportingFeeOnTransferTokens(uint256,uint256,address[],address,uint256)>,\n",
       " <Function swapTokensForExactETH(uint256,uint256,address[],address,uint256)>,\n",
       " <Function swapTokensForExactTokens(uint256,uint256,address[],address,uint256)>]"
      ]
     },
     "execution_count": 6,
     "metadata": {},
     "output_type": "execute_result"
    }
   ],
   "source": [
    "UNISWAP_V2_FACTORY_CONTRACT = w3.eth.contract(address=UNISWAP_V2_FACTORY, abi=UNISWAP_V2_FACTORY_ABI)\n",
    "UNISWAP_V2_ROUTER_CONTRACT = w3.eth.contract(address=UNISWAP_V2_ROUTER, abi=UNISWAP_V2_ROUTER_ABI)\n",
    "# WETH = Web3.to_checksum_address(\"0xC02aaA39b223FE8D0A0e5C4F27eAD9083C756Cc2\") #mainnet WETH address\n",
    "WETH = Web3.to_checksum_address(UNISWAP_V2_ROUTER_CONTRACT.functions.WETH().call())\n",
    "UNI = Web3.to_checksum_address(\"0x1f9840a85d5aF5bf1D1762F925BDADdC4201F984\")\n",
    "\n",
    "WETH_abi = get_abi(WETH, chain_id=5)\n",
    "WETH_contract = w3.eth.contract(address=WETH, abi=WETH_abi)\n",
    "WETH_decimals = WETH_contract.functions.decimals().call()\n",
    "WETH_symbol = WETH_contract.functions.symbol().call()\n",
    "\n",
    "UNI_abi = get_abi(UNI, chain_id=5)\n",
    "UNI_contract = w3.eth.contract(address=UNI, abi=UNI_abi)\n",
    "UNI_decimals = UNI_contract.functions.decimals().call()\n",
    "UNI_symbol = UNI_contract.functions.symbol().call()\n",
    "\n",
    "'''\n",
    "Buy Token:\n",
    "swapExactETHForTokensSupportingFeeOnTransferTokens(uint256,address[],address,uint256)\n",
    "\n",
    "Sell Token:\n",
    "swapExactTokensForETHSupportingFeeOnTransferTokens(uint256,uint256,address[],address,uint256)\n",
    "\n",
    "Rotate Token:\n",
    "swapExactTokensForTokensSupportingFeeOnTransferTokens(uint256,uint256,address[],address,uint256)\n",
    "'''\n",
    "UNISWAP_V2_ROUTER_CONTRACT.all_functions()"
   ]
  },
  {
   "cell_type": "code",
   "execution_count": null,
   "metadata": {},
   "outputs": [],
   "source": [
    "# Build and sign a transaction to buy token:\n",
    "buy_tx = UNISWAP_V2_ROUTER_CONTRACT.functions.swapExactETHForTokensSupportingFeeOnTransferTokens(\n",
    "    w3.to_wei(0.2, 'ether'),    # amountOutMin\n",
    "    [WETH, UNI],                # path (path 0 needs to be WETH)\n",
    "    account.address,            # to\n",
    "    int(time.time()) + 60       # deadline (current + 30s)\n",
    ").build_transaction({\n",
    "    \"from\": account.address,\n",
    "    \"nonce\": w3.eth.get_transaction_count(account.address),\n",
    "    \"value\": w3.to_wei(0.01, 'ether'),\n",
    "    \"gas\": 300000,\n",
    "    \"maxFeePerGas\": 2000000000,\n",
    "    \"maxPriorityFeePerGas\": 1500000000,\n",
    "})\n",
    "\n",
    "signed_buy_tx = w3.eth.account.sign_transaction(buy_tx, private_key=credentials.private_key)\n",
    "\n",
    "# Send the raw transaction:\n",
    "tx_hash = w3.eth.send_raw_transaction(signed_buy_tx.rawTransaction)\n",
    "tx = w3.eth.wait_for_transaction_receipt(tx_hash)\n",
    "\n",
    "if tx.status == 1:\n",
    "    print(\"Transaction successful\")\n",
    "    #Auto Approve Token for selling\n",
    "    approve_tx = UNI_contract.functions.approve(UNISWAP_V2_ROUTER, 2**256-1).build_transaction({\n",
    "        \"from\": account.address,\n",
    "        \"nonce\": w3.eth.get_transaction_count(account.address),\n",
    "        \"gas\": 60000,\n",
    "        \"maxFeePerGas\": 2000000000, \n",
    "        \"maxPriorityFeePerGas\": 1500000000,\n",
    "    })\n",
    "    signed_approve_tx = w3.eth.account.sign_transaction(approve_tx, private_key=credentials.private_key)\n",
    "    tx_hash = w3.eth.send_raw_transaction(signed_approve_tx.rawTransaction)\n",
    "    tx = w3.eth.wait_for_transaction_receipt(tx_hash)"
   ]
  },
  {
   "cell_type": "code",
   "execution_count": 7,
   "metadata": {},
   "outputs": [
    {
     "data": {
      "text/plain": [
       "AttributeDict({'blockHash': HexBytes('0xd8ed9f3ca1ecc971d016d5ed99aac87d34b1c85654e9630dd7acac1ee83c1ab0'),\n",
       " 'blockNumber': 9613830,\n",
       " 'contractAddress': None,\n",
       " 'cumulativeGasUsed': 2152455,\n",
       " 'effectiveGasPrice': 1500000011,\n",
       " 'from': '0x6B12B690Fc279958715C29AD65CCCB33900f0F0B',\n",
       " 'gasUsed': 118960,\n",
       " 'logs': [AttributeDict({'address': '0x1f9840a85d5aF5bf1D1762F925BDADdC4201F984',\n",
       "   'blockHash': HexBytes('0xd8ed9f3ca1ecc971d016d5ed99aac87d34b1c85654e9630dd7acac1ee83c1ab0'),\n",
       "   'blockNumber': 9613830,\n",
       "   'data': HexBytes('0x00000000000000000000000000000000000000000000000002ea11e32ad50000'),\n",
       "   'logIndex': 17,\n",
       "   'removed': False,\n",
       "   'topics': [HexBytes('0xddf252ad1be2c89b69c2b068fc378daa952ba7f163c4a11628f55a4df523b3ef'),\n",
       "    HexBytes('0x0000000000000000000000006b12b690fc279958715c29ad65cccb33900f0f0b'),\n",
       "    HexBytes('0x00000000000000000000000028cee28a7c4b4022ac92685c07d2f33ab1a0e122')],\n",
       "   'transactionHash': HexBytes('0x722860fe4175a7ca508c8f4c6bc63b692542724081e5b715ccbe977cf595111f'),\n",
       "   'transactionIndex': 13}),\n",
       "  AttributeDict({'address': '0xB4FBF271143F4FBf7B91A5ded31805e42b2208d6',\n",
       "   'blockHash': HexBytes('0xd8ed9f3ca1ecc971d016d5ed99aac87d34b1c85654e9630dd7acac1ee83c1ab0'),\n",
       "   'blockNumber': 9613830,\n",
       "   'data': HexBytes('0x000000000000000000000000000000000000000000000000002326f5a639932c'),\n",
       "   'logIndex': 18,\n",
       "   'removed': False,\n",
       "   'topics': [HexBytes('0xddf252ad1be2c89b69c2b068fc378daa952ba7f163c4a11628f55a4df523b3ef'),\n",
       "    HexBytes('0x00000000000000000000000028cee28a7c4b4022ac92685c07d2f33ab1a0e122'),\n",
       "    HexBytes('0x0000000000000000000000007a250d5630b4cf539739df2c5dacb4c659f2488d')],\n",
       "   'transactionHash': HexBytes('0x722860fe4175a7ca508c8f4c6bc63b692542724081e5b715ccbe977cf595111f'),\n",
       "   'transactionIndex': 13}),\n",
       "  AttributeDict({'address': '0x28cee28a7C4b4022AC92685C07d2f33Ab1A0e122',\n",
       "   'blockHash': HexBytes('0xd8ed9f3ca1ecc971d016d5ed99aac87d34b1c85654e9630dd7acac1ee83c1ab0'),\n",
       "   'blockNumber': 9613830,\n",
       "   'data': HexBytes('0x000000000000000000000000000000000000000000001826e1d2cf6b326f1b120000000000000000000000000000000000000000000001243111bfca06df85c4'),\n",
       "   'logIndex': 19,\n",
       "   'removed': False,\n",
       "   'topics': [HexBytes('0x1c411e9a96e071241c2f21f7726b17ae89e3cab4c78be50e062b03a9fffbbad1')],\n",
       "   'transactionHash': HexBytes('0x722860fe4175a7ca508c8f4c6bc63b692542724081e5b715ccbe977cf595111f'),\n",
       "   'transactionIndex': 13}),\n",
       "  AttributeDict({'address': '0x28cee28a7C4b4022AC92685C07d2f33Ab1A0e122',\n",
       "   'blockHash': HexBytes('0xd8ed9f3ca1ecc971d016d5ed99aac87d34b1c85654e9630dd7acac1ee83c1ab0'),\n",
       "   'blockNumber': 9613830,\n",
       "   'data': HexBytes('0x00000000000000000000000000000000000000000000000002ea11e32ad5000000000000000000000000000000000000000000000000000000000000000000000000000000000000000000000000000000000000000000000000000000000000000000000000000000000000000000000000000000000000002326f5a639932c'),\n",
       "   'logIndex': 20,\n",
       "   'removed': False,\n",
       "   'topics': [HexBytes('0xd78ad95fa46c994b6551d0da85fc275fe613ce37657fb8d5e3d130840159d822'),\n",
       "    HexBytes('0x0000000000000000000000007a250d5630b4cf539739df2c5dacb4c659f2488d'),\n",
       "    HexBytes('0x0000000000000000000000007a250d5630b4cf539739df2c5dacb4c659f2488d')],\n",
       "   'transactionHash': HexBytes('0x722860fe4175a7ca508c8f4c6bc63b692542724081e5b715ccbe977cf595111f'),\n",
       "   'transactionIndex': 13}),\n",
       "  AttributeDict({'address': '0xB4FBF271143F4FBf7B91A5ded31805e42b2208d6',\n",
       "   'blockHash': HexBytes('0xd8ed9f3ca1ecc971d016d5ed99aac87d34b1c85654e9630dd7acac1ee83c1ab0'),\n",
       "   'blockNumber': 9613830,\n",
       "   'data': HexBytes('0x000000000000000000000000000000000000000000000000002326f5a639932c'),\n",
       "   'logIndex': 21,\n",
       "   'removed': False,\n",
       "   'topics': [HexBytes('0x7fcf532c15f0a6db0bd6d0e038bea71d30d808c7d98cb3bf7268a95bf5081b65'),\n",
       "    HexBytes('0x0000000000000000000000007a250d5630b4cf539739df2c5dacb4c659f2488d')],\n",
       "   'transactionHash': HexBytes('0x722860fe4175a7ca508c8f4c6bc63b692542724081e5b715ccbe977cf595111f'),\n",
       "   'transactionIndex': 13})],\n",
       " 'logsBloom': HexBytes('0x00200000000000000000000080000000100010000000000000010200000000000000000000000000000000000000001000000000000000000000020000000000000000000400000000000008100000200000000000400000000000000000000008000000000000000000000000000000000000000000040000000010000000000000000000000000004000000000000000000000000000080000004000000000040000000000000000000000000000000000000000000000000000000000000000004003001000000000000010000000000000000000001000000002000020000000000000000000000000000000000000000000000000000000000000800000'),\n",
       " 'status': 1,\n",
       " 'to': '0x7a250d5630B4cF539739dF2C5dAcb4c659F2488D',\n",
       " 'transactionHash': HexBytes('0x722860fe4175a7ca508c8f4c6bc63b692542724081e5b715ccbe977cf595111f'),\n",
       " 'transactionIndex': 13,\n",
       " 'type': 2})"
      ]
     },
     "execution_count": 7,
     "metadata": {},
     "output_type": "execute_result"
    }
   ],
   "source": [
    "# Build and sign a transaction to sell token:\n",
    "sell_tx = UNISWAP_V2_ROUTER_CONTRACT.functions.swapExactTokensForETHSupportingFeeOnTransferTokens(\n",
    "    w3.to_wei(0.21, 'ether'),   # amountIn (amount of UNI to sell)\n",
    "    w3.to_wei(0.009, 'ether'),  # amountOutMin (Minimum amount of ETH to receive)\n",
    "    [UNI, WETH],                # path (path 1 needs to be WETH)\n",
    "    account.address,            # to\n",
    "    int(time.time()) + 60       # deadline (current + 30s)\n",
    ").build_transaction({\n",
    "    \"from\": account.address,\n",
    "    \"nonce\": w3.eth.get_transaction_count(account.address),\n",
    "    \"gas\": 300000,\n",
    "    \"maxFeePerGas\": 2000000000,\n",
    "    \"maxPriorityFeePerGas\": 1500000000,\n",
    "})\n",
    "\n",
    "signed_sell_tx = w3.eth.account.sign_transaction(sell_tx, private_key=credentials.private_key)\n",
    "tx_hash = w3.eth.send_raw_transaction(signed_sell_tx.rawTransaction)\n",
    "tx = w3.eth.wait_for_transaction_receipt(tx_hash)\n",
    "if tx.status == 1:\n",
    "    print(\"Transaction successful\")"
   ]
  },
  {
   "cell_type": "markdown",
   "metadata": {},
   "source": [
    "### Price and Slipperage"
   ]
  },
  {
   "cell_type": "code",
   "execution_count": 16,
   "metadata": {},
   "outputs": [],
   "source": [
    "'''\n",
    "Given token address\n",
    "Find token Pair\n",
    "Get token price in WETH\n",
    "'''\n",
    "#Get token price in WETH\n",
    "pair_address = UNISWAP_V2_FACTORY_CONTRACT.functions.getPair(UNI, WETH).call()\n",
    "if w3.to_int(hexstr=pair_address) == 0:\n",
    "    print(\"Pair not found\")\n",
    "    raise\n",
    "\n",
    "pair_abi = get_abi(pair_address , chain_id=5)\n",
    "pair_contract = w3.eth.contract(address=pair_address, abi=pair_abi)"
   ]
  },
  {
   "cell_type": "code",
   "execution_count": 71,
   "metadata": {},
   "outputs": [
    {
     "name": "stdout",
     "output_type": "stream",
     "text": [
      "Current Block number: 9613268\n",
      "1\n",
      "Token 0 (UNI) reserve: 114060.03332883895\n",
      "Token 1 (WETH) reserve: 5389.698558068073\n",
      "Block timestamp last: 1693494960\n",
      "\n",
      "Raw token price: 1 WETH = 21.162599744673578 UNI\n",
      "Raw token price: 1 UNI = 0.04725317362067911 WETH\n",
      "True token price: Max amount UNI (out) given 1 WETH in: 21.095209700472648\n",
      "True token price: Min amount UNI (in) given 1 WETH out: 21.230229471466977\n"
     ]
    }
   ],
   "source": [
    "print(f'Current Block number: {w3.eth.block_number}')\n",
    "reserve = pair_contract.functions.getReserves().call()\n",
    "\n",
    "#Caculate token pair rate (Token 1 is WETH)\n",
    "if UNI < WETH:\n",
    "    print(\"1\")\n",
    "    token_0_reserve = reserve[0]/10**UNI_decimals\n",
    "    token_1_reserve = reserve[1]/10**WETH_decimals\n",
    "else:\n",
    "    print(\"2\")\n",
    "    token_0_reserve = reserve[1]/10**UNI_decimals\n",
    "    token_1_reserve = reserve[0]/10**WETH_decimals\n",
    "    \n",
    "token_pair_rate = token_0_reserve/token_1_reserve\n",
    "\n",
    "print(f\"Token 0 ({UNI_symbol}) reserve: {token_0_reserve}\")\n",
    "print(f\"Token 1 ({WETH_symbol}) reserve: {token_1_reserve}\")\n",
    "print(f\"Block timestamp last: {reserve[2]}\\n\")\n",
    "\n",
    "#Raw token rate\n",
    "print(f\"Raw token price: 1 {WETH_symbol} = {token_pair_rate} {UNI_symbol}\")\n",
    "print(f\"Raw token price: 1 {UNI_symbol} = {1/token_pair_rate} {WETH_symbol}\")\n",
    "\n",
    "#AmountIn rate (Buy price)\n",
    "if WETH < UNI:\n",
    "    reserveOut = reserve[1]/10**UNI_decimals\n",
    "    reserveIn = reserve[0]/10**WETH_decimals #Base token\n",
    "else:\n",
    "    reserveOut = reserve[0]/10**UNI_decimals\n",
    "    reserveIn = reserve[1]/10**WETH_decimals #Base token\n",
    "\n",
    "amountIn = 1 #1 WETH\n",
    "amountIn = amountIn * 997/1000 #fee 0.3%\n",
    "amountOut = amountIn * reserveOut/(reserveIn+amountIn)\n",
    "print(f\"True token price: Max amount {UNI_symbol} (out) given 1 {WETH_symbol} in: {amountOut}\")\n",
    "\n",
    "#AmountOut rate (Sell price)\n",
    "if WETH < UNI:\n",
    "    reserveIn = reserve[1]/10**UNI_decimals\n",
    "    reserveOut = reserve[0]/10**WETH_decimals #Base token\n",
    "else:\n",
    "    reserveIn = reserve[0]/10**UNI_decimals\n",
    "    reserveOut = reserve[1]/10**WETH_decimals #Base token\n",
    "\n",
    "amountOut = 1 #1 WETH\n",
    "amountOut = amountOut * 1000/997 #fee 0.3%\n",
    "amountIn = amountOut * reserveIn / (reserveOut - amountOut)\n",
    "print(f\"True token price: Min amount {UNI_symbol} (in) given 1 {WETH_symbol} out: {amountIn}\")"
   ]
  }
 ],
 "metadata": {
  "kernelspec": {
   "display_name": "Python 3",
   "language": "python",
   "name": "python3"
  },
  "language_info": {
   "codemirror_mode": {
    "name": "ipython",
    "version": 3
   },
   "file_extension": ".py",
   "mimetype": "text/x-python",
   "name": "python",
   "nbconvert_exporter": "python",
   "pygments_lexer": "ipython3",
   "version": "3.10.11"
  },
  "orig_nbformat": 4
 },
 "nbformat": 4,
 "nbformat_minor": 2
}
