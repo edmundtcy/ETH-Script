{
 "cells": [
  {
   "cell_type": "code",
   "execution_count": 1,
   "metadata": {},
   "outputs": [],
   "source": [
    "import json\n",
    "import math\n",
    "import time\n",
    "import secrets\n",
    "import requests\n",
    "import credentials\n",
    "import numpy as np\n",
    "from web3 import Web3\n",
    "from datetime import datetime\n",
    "from eth_account import Account"
   ]
  },
  {
   "cell_type": "code",
   "execution_count": 2,
   "metadata": {},
   "outputs": [],
   "source": [
    "INFURA_KEY = credentials.infura_key\n",
    "ETHERSCAN_KEY = credentials.etherscan_key\n",
    "\n",
    "RPC = {\n",
    "    'mainnet': f'https://mainnet.infura.io/v3/{INFURA_KEY}',\n",
    "    'goreli': f'https://goerli.infura.io/v3/{INFURA_KEY}',\n",
    "    'mainnet_ws': f'wss://mainnet.infura.io/ws/v3/{INFURA_KEY}',\n",
    "    'goreli_ws': f'wss://goerli.infura.io/ws/v3/{INFURA_KEY}',\n",
    "    'mainnet_mev': f'https://rpc.mevblocker.io'\n",
    "}\n",
    "\n",
    "# Mainnet MEV protector\n",
    "provider = RPC['mainnet_mev']\n",
    "w3 = Web3(Web3.HTTPProvider(provider, request_kwargs={'timeout': 60}))"
   ]
  },
  {
   "cell_type": "code",
   "execution_count": 3,
   "metadata": {},
   "outputs": [],
   "source": [
    "def get_abi(contract_address, chain_id=1):\n",
    "    #Get Contract ABI with Etherscan API\n",
    "    api_key = ETHERSCAN_KEY\n",
    "    if chain_id == 1:\n",
    "        url = 'https://api.etherscan.io/api'\n",
    "    elif chain_id == 5:\n",
    "        url = 'https://api-goerli.etherscan.io/api'\n",
    "    params = {\n",
    "        'module': 'contract',\n",
    "        'action': 'getabi',\n",
    "        'address': contract_address,\n",
    "        'apikey': api_key\n",
    "    }\n",
    "    response = requests.get(url, params=params)\n",
    "    data = response.json()\n",
    "    if data['status'] != '1':\n",
    "        print(\"Error: \", data['message'])\n",
    "        return None\n",
    "    else:\n",
    "        abi = data['result']\n",
    "        return abi"
   ]
  },
  {
   "cell_type": "code",
   "execution_count": 5,
   "metadata": {},
   "outputs": [],
   "source": [
    "UNISWAP_V3_FACTORY = Web3.to_checksum_address(\"0x1F98431c8aD98523631AE4a59f267346ea31F984\")\n",
    "UNISWAP_V3_FACTORY_ABI = get_abi(UNISWAP_V3_FACTORY, chain_id=1)\n",
    "UNISWAP_V2_FACTORY_CONTRACT = w3.eth.contract(address=UNISWAP_V3_FACTORY, abi=UNISWAP_V3_FACTORY_ABI)"
   ]
  },
  {
   "cell_type": "code",
   "execution_count": 13,
   "metadata": {},
   "outputs": [],
   "source": [
    "USDT = Web3.to_checksum_address(\"0xdac17f958d2ee523a2206206994597c13d831ec7\")\n",
    "WETH = Web3.to_checksum_address(\"0xC02aaA39b223FE8D0A0e5C4F27eAD9083C756Cc2\")\n",
    "pool_address = UNISWAP_V2_FACTORY_CONTRACT.functions.getPool(WETH, USDT, 500).call()\n",
    "pool_abi = get_abi(pool_address, chain_id=1)\n",
    "pool_contract = w3.eth.contract(address=pool_address, abi=pool_abi)"
   ]
  },
  {
   "cell_type": "code",
   "execution_count": 15,
   "metadata": {},
   "outputs": [
    {
     "data": {
      "text/plain": [
       "[<Function burn(int24,int24,uint128)>,\n",
       " <Function collect(address,int24,int24,uint128,uint128)>,\n",
       " <Function collectProtocol(address,uint128,uint128)>,\n",
       " <Function factory()>,\n",
       " <Function fee()>,\n",
       " <Function feeGrowthGlobal0X128()>,\n",
       " <Function feeGrowthGlobal1X128()>,\n",
       " <Function flash(address,uint256,uint256,bytes)>,\n",
       " <Function increaseObservationCardinalityNext(uint16)>,\n",
       " <Function initialize(uint160)>,\n",
       " <Function liquidity()>,\n",
       " <Function maxLiquidityPerTick()>,\n",
       " <Function mint(address,int24,int24,uint128,bytes)>,\n",
       " <Function observations(uint256)>,\n",
       " <Function observe(uint32[])>,\n",
       " <Function positions(bytes32)>,\n",
       " <Function protocolFees()>,\n",
       " <Function setFeeProtocol(uint8,uint8)>,\n",
       " <Function slot0()>,\n",
       " <Function snapshotCumulativesInside(int24,int24)>,\n",
       " <Function swap(address,bool,int256,uint160,bytes)>,\n",
       " <Function tickBitmap(int16)>,\n",
       " <Function tickSpacing()>,\n",
       " <Function ticks(int24)>,\n",
       " <Function token0()>,\n",
       " <Function token1()>]"
      ]
     },
     "execution_count": 15,
     "metadata": {},
     "output_type": "execute_result"
    }
   ],
   "source": [
    "pool_contract.all_functions()"
   ]
  }
 ],
 "metadata": {
  "kernelspec": {
   "display_name": "Python 3",
   "language": "python",
   "name": "python3"
  },
  "language_info": {
   "codemirror_mode": {
    "name": "ipython",
    "version": 3
   },
   "file_extension": ".py",
   "mimetype": "text/x-python",
   "name": "python",
   "nbconvert_exporter": "python",
   "pygments_lexer": "ipython3",
   "version": "3.10.11"
  },
  "orig_nbformat": 4
 },
 "nbformat": 4,
 "nbformat_minor": 2
}
