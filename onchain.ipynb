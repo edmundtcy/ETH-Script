{
 "cells": [
  {
   "cell_type": "code",
   "execution_count": 1,
   "metadata": {},
   "outputs": [],
   "source": [
    "import datetime\n",
    "import requests\n",
    "import credentials\n",
    "from web3 import Web3\n",
    "from moralis import evm_api"
   ]
  },
  {
   "cell_type": "code",
   "execution_count": 2,
   "metadata": {},
   "outputs": [],
   "source": [
    "ETHERSCAN_KEY = credentials.etherscan_key\n",
    "QUICKNODE_KEY = credentials.quicknode_key\n",
    "MORALIS_KEY = credentials.moralis_key"
   ]
  },
  {
   "cell_type": "markdown",
   "metadata": {},
   "source": [
    "### Get Contract Creation Txn Hash"
   ]
  },
  {
   "cell_type": "code",
   "execution_count": 4,
   "metadata": {},
   "outputs": [],
   "source": [
    "def get_contract_creation_txh(contract_address: []):\n",
    "    url = 'https://api.etherscan.io/api'\n",
    "    params = {\n",
    "        'module': 'contract',\n",
    "        'action': 'getcontractcreation',\n",
    "        'contractaddresses': contract_address,\n",
    "        'apikey': ETHERSCAN_KEY\n",
    "    }\n",
    "    response = requests.get(url, params=params)\n",
    "    data = response.json()\n",
    "    if data['status'] != '1':\n",
    "        print(\"Error: \", data['message'])\n",
    "        return None\n",
    "    else:\n",
    "        return data['result']\n",
    "\n",
    "def get_txn_by_hash(txn_hash):\n",
    "    url = 'https://api.etherscan.io/api'\n",
    "    params = {\n",
    "        'module': 'proxy',\n",
    "        'action': 'eth_getTransactionByHash',\n",
    "        'txhash': txn_hash,\n",
    "        'apikey': ETHERSCAN_KEY\n",
    "    }\n",
    "    response = requests.get(url, params=params)\n",
    "    return response.json()\n",
    "\n",
    "def get_recent_block():\n",
    "    url = 'https://api.etherscan.io/api'\n",
    "    params = {\n",
    "        'module': 'proxy',\n",
    "        'action': 'eth_blockNumber',\n",
    "        'apikey': ETHERSCAN_KEY\n",
    "    }\n",
    "    response = requests.get(url, params=params)\n",
    "    return response.json()\n",
    "\n",
    "def get_block_by_num(number):\n",
    "    url = 'https://api.etherscan.io/api'\n",
    "    params = {\n",
    "        'module': 'proxy',\n",
    "        'action': 'eth_getBlockByNumber',\n",
    "        'tag': number,\n",
    "        'boolean': 'true',\n",
    "        'apikey': ETHERSCAN_KEY\n",
    "    }\n",
    "    response = requests.get(url, params=params)\n",
    "    return response.json()\n",
    "\n",
    "def get_token_block_num(contract_address):\n",
    "    txn_hash = get_contract_creation_txh(contract_address)\n",
    "    txn = get_txn_by_hash(txn_hash[0]['txHash']) #array\n",
    "    block_start = get_block_by_num(txn['result']['blockNumber'])\n",
    "    block_time_start = int(block['result']['timestamp'][2:], 16)\n",
    "\n",
    "    block_now = get_recent_block()\n",
    "    block_now = int(block_now['result'][2:], 16)\n",
    "\n",
    "    data = {\n",
    "        'block_now_num': block_now,\n",
    "        'block_start_num': int(block_start['result']['number'][2:], 16),\n",
    "        'block_time_start': block_time_start\n",
    "    }\n",
    "    return data"
   ]
  },
  {
   "cell_type": "code",
   "execution_count": null,
   "metadata": {},
   "outputs": [],
   "source": [
    "contract_address = Web3.to_checksum_address(\"0x586a7cFE21E55ec0E24f0bfB118F77fE4cA87bab\")\n",
    "WETH = Web3.to_checksum_address(\"0xC02aaA39b223FE8D0A0e5C4F27eAD9083C756Cc2\")\n",
    "token_data = get_token_block_num(contract_address)\n",
    "block_start_num = token_data['block_start_num']\n",
    "block_now_num = token_data['block_now_num']\n",
    "block_time_start = token_data['block_time_start']\n",
    "\n",
    "now_time = int(datetime.datetime.now().timestamp())\n",
    "\n",
    "time_difference = datetime.datetime.fromtimestamp(now_time) - datetime.datetime.fromtimestamp(block_time_start)\n",
    "days = time_difference.days\n",
    "hours, remainder = divmod(time_difference.seconds, 3600)\n",
    "minutes, seconds = divmod(remainder, 60)\n",
    "\n",
    "print(f\"Token existed for {days} days, {hours} hours, {minutes} minutes, {seconds} seconds\")\n",
    "\n",
    "historicalPrice = []\n",
    "for to_block in range(block_start_num, block_now_num, 1000):\n",
    "  params = {\n",
    "    \"address\": contract_address,\n",
    "    \"chain\": \"eth\",\n",
    "    \"to_block\": to_block\n",
    "  }\n",
    "  result = evm_api.token.get_token_price(\n",
    "    api_key=MORALIS_KEY,\n",
    "    params=params,\n",
    "  )\n",
    "\n",
    "  historicalPrice.append(result)\n"
   ]
  },
  {
   "cell_type": "code",
   "execution_count": null,
   "metadata": {},
   "outputs": [],
   "source": [
    "historicalPrice"
   ]
  }
 ],
 "metadata": {
  "kernelspec": {
   "display_name": "Python 3",
   "language": "python",
   "name": "python3"
  },
  "language_info": {
   "codemirror_mode": {
    "name": "ipython",
    "version": 3
   },
   "file_extension": ".py",
   "mimetype": "text/x-python",
   "name": "python",
   "nbconvert_exporter": "python",
   "pygments_lexer": "ipython3",
   "version": "3.10.11"
  },
  "orig_nbformat": 4
 },
 "nbformat": 4,
 "nbformat_minor": 2
}
